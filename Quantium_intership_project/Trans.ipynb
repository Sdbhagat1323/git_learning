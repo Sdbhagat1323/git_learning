{
 "cells": [
  {
   "cell_type": "code",
   "execution_count": 1,
   "metadata": {},
   "outputs": [],
   "source": [
    "import pandas as pd\n",
    "import re \n",
    "import matplotlib.pyplot as plt\n",
    "import datetime\n",
    "import seaborn as sns\n",
    "import numpy as np\n",
    "%matplotlib inline\n"
   ]
  },
  {
   "cell_type": "code",
   "execution_count": 2,
   "metadata": {},
   "outputs": [],
   "source": [
    "df = pd.read_csv(\"QVI_transaction_data.csv\")"
   ]
  },
  {
   "cell_type": "code",
   "execution_count": 3,
   "metadata": {},
   "outputs": [
    {
     "data": {
      "text/html": [
       "<div>\n",
       "<style scoped>\n",
       "    .dataframe tbody tr th:only-of-type {\n",
       "        vertical-align: middle;\n",
       "    }\n",
       "\n",
       "    .dataframe tbody tr th {\n",
       "        vertical-align: top;\n",
       "    }\n",
       "\n",
       "    .dataframe thead th {\n",
       "        text-align: right;\n",
       "    }\n",
       "</style>\n",
       "<table border=\"1\" class=\"dataframe\">\n",
       "  <thead>\n",
       "    <tr style=\"text-align: right;\">\n",
       "      <th></th>\n",
       "      <th>DATE</th>\n",
       "      <th>STORE_NBR</th>\n",
       "      <th>LYLTY_CARD_NBR</th>\n",
       "      <th>TXN_ID</th>\n",
       "      <th>PROD_NBR</th>\n",
       "      <th>PROD_NAME</th>\n",
       "      <th>PROD_QTY</th>\n",
       "      <th>TOT_SALES</th>\n",
       "    </tr>\n",
       "  </thead>\n",
       "  <tbody>\n",
       "    <tr>\n",
       "      <th>0</th>\n",
       "      <td>43390</td>\n",
       "      <td>1</td>\n",
       "      <td>1000</td>\n",
       "      <td>1</td>\n",
       "      <td>5</td>\n",
       "      <td>Natural Chip        Compny SeaSalt175g</td>\n",
       "      <td>2</td>\n",
       "      <td>6.0</td>\n",
       "    </tr>\n",
       "    <tr>\n",
       "      <th>1</th>\n",
       "      <td>43599</td>\n",
       "      <td>1</td>\n",
       "      <td>1307</td>\n",
       "      <td>348</td>\n",
       "      <td>66</td>\n",
       "      <td>CCs Nacho Cheese    175g</td>\n",
       "      <td>3</td>\n",
       "      <td>6.3</td>\n",
       "    </tr>\n",
       "    <tr>\n",
       "      <th>2</th>\n",
       "      <td>43605</td>\n",
       "      <td>1</td>\n",
       "      <td>1343</td>\n",
       "      <td>383</td>\n",
       "      <td>61</td>\n",
       "      <td>Smiths Crinkle Cut  Chips Chicken 170g</td>\n",
       "      <td>2</td>\n",
       "      <td>2.9</td>\n",
       "    </tr>\n",
       "    <tr>\n",
       "      <th>3</th>\n",
       "      <td>43329</td>\n",
       "      <td>2</td>\n",
       "      <td>2373</td>\n",
       "      <td>974</td>\n",
       "      <td>69</td>\n",
       "      <td>Smiths Chip Thinly  S/Cream&amp;Onion 175g</td>\n",
       "      <td>5</td>\n",
       "      <td>15.0</td>\n",
       "    </tr>\n",
       "    <tr>\n",
       "      <th>4</th>\n",
       "      <td>43330</td>\n",
       "      <td>2</td>\n",
       "      <td>2426</td>\n",
       "      <td>1038</td>\n",
       "      <td>108</td>\n",
       "      <td>Kettle Tortilla ChpsHny&amp;Jlpno Chili 150g</td>\n",
       "      <td>3</td>\n",
       "      <td>13.8</td>\n",
       "    </tr>\n",
       "  </tbody>\n",
       "</table>\n",
       "</div>"
      ],
      "text/plain": [
       "    DATE  STORE_NBR  LYLTY_CARD_NBR  TXN_ID  PROD_NBR  \\\n",
       "0  43390          1            1000       1         5   \n",
       "1  43599          1            1307     348        66   \n",
       "2  43605          1            1343     383        61   \n",
       "3  43329          2            2373     974        69   \n",
       "4  43330          2            2426    1038       108   \n",
       "\n",
       "                                  PROD_NAME  PROD_QTY  TOT_SALES  \n",
       "0    Natural Chip        Compny SeaSalt175g         2        6.0  \n",
       "1                  CCs Nacho Cheese    175g         3        6.3  \n",
       "2    Smiths Crinkle Cut  Chips Chicken 170g         2        2.9  \n",
       "3    Smiths Chip Thinly  S/Cream&Onion 175g         5       15.0  \n",
       "4  Kettle Tortilla ChpsHny&Jlpno Chili 150g         3       13.8  "
      ]
     },
     "execution_count": 3,
     "metadata": {},
     "output_type": "execute_result"
    }
   ],
   "source": [
    "df.head()"
   ]
  },
  {
   "cell_type": "code",
   "execution_count": 4,
   "metadata": {},
   "outputs": [
    {
     "name": "stdout",
     "output_type": "stream",
     "text": [
      "<class 'pandas.core.frame.DataFrame'>\n",
      "RangeIndex: 264836 entries, 0 to 264835\n",
      "Data columns (total 8 columns):\n",
      " #   Column          Non-Null Count   Dtype  \n",
      "---  ------          --------------   -----  \n",
      " 0   DATE            264836 non-null  int64  \n",
      " 1   STORE_NBR       264836 non-null  int64  \n",
      " 2   LYLTY_CARD_NBR  264836 non-null  int64  \n",
      " 3   TXN_ID          264836 non-null  int64  \n",
      " 4   PROD_NBR        264836 non-null  int64  \n",
      " 5   PROD_NAME       264836 non-null  object \n",
      " 6   PROD_QTY        264836 non-null  int64  \n",
      " 7   TOT_SALES       264836 non-null  float64\n",
      "dtypes: float64(1), int64(6), object(1)\n",
      "memory usage: 16.2+ MB\n"
     ]
    }
   ],
   "source": [
    "df.info()"
   ]
  },
  {
   "cell_type": "code",
   "execution_count": 5,
   "metadata": {},
   "outputs": [],
   "source": [
    "df.columns = map(str.lower, df.columns)\n",
    "df = df.rename(columns={\"lylty_card_nbr\": \"card_num\"})"
   ]
  },
  {
   "cell_type": "code",
   "execution_count": 6,
   "metadata": {},
   "outputs": [
    {
     "name": "stdout",
     "output_type": "stream",
     "text": [
      "<class 'pandas.core.frame.DataFrame'>\n",
      "RangeIndex: 264836 entries, 0 to 264835\n",
      "Data columns (total 8 columns):\n",
      " #   Column     Non-Null Count   Dtype  \n",
      "---  ------     --------------   -----  \n",
      " 0   date       264836 non-null  int64  \n",
      " 1   store_nbr  264836 non-null  int64  \n",
      " 2   card_num   264836 non-null  int64  \n",
      " 3   txn_id     264836 non-null  int64  \n",
      " 4   prod_nbr   264836 non-null  int64  \n",
      " 5   prod_name  264836 non-null  object \n",
      " 6   prod_qty   264836 non-null  int64  \n",
      " 7   tot_sales  264836 non-null  float64\n",
      "dtypes: float64(1), int64(6), object(1)\n",
      "memory usage: 16.2+ MB\n"
     ]
    },
    {
     "data": {
      "text/plain": [
       "(264836, 8)"
      ]
     },
     "execution_count": 6,
     "metadata": {},
     "output_type": "execute_result"
    }
   ],
   "source": [
    "df.info()\n",
    "df.shape"
   ]
  },
  {
   "cell_type": "code",
   "execution_count": 7,
   "metadata": {},
   "outputs": [],
   "source": [
    "#Convert Excel dates to dates\n",
    "import datetime\n",
    "import xlrd\n",
    "\n",
    "date_dub = [xlrd.xldate.xldate_as_datetime(x, 0)\n",
    "           for x in df[\"date\"].tolist()]\n",
    "df[\"date\"] = [d.strftime('%m-%d-%Y') for d in date_dub]\n",
    "df[\"date\"] = pd.to_datetime(df[\"date\"])"
   ]
  },
  {
   "cell_type": "code",
   "execution_count": 8,
   "metadata": {},
   "outputs": [
    {
     "data": {
      "text/html": [
       "<div>\n",
       "<style scoped>\n",
       "    .dataframe tbody tr th:only-of-type {\n",
       "        vertical-align: middle;\n",
       "    }\n",
       "\n",
       "    .dataframe tbody tr th {\n",
       "        vertical-align: top;\n",
       "    }\n",
       "\n",
       "    .dataframe thead th {\n",
       "        text-align: right;\n",
       "    }\n",
       "</style>\n",
       "<table border=\"1\" class=\"dataframe\">\n",
       "  <thead>\n",
       "    <tr style=\"text-align: right;\">\n",
       "      <th></th>\n",
       "      <th>date</th>\n",
       "      <th>store_nbr</th>\n",
       "      <th>card_num</th>\n",
       "      <th>txn_id</th>\n",
       "      <th>prod_nbr</th>\n",
       "      <th>prod_name</th>\n",
       "      <th>prod_qty</th>\n",
       "      <th>tot_sales</th>\n",
       "    </tr>\n",
       "  </thead>\n",
       "  <tbody>\n",
       "    <tr>\n",
       "      <th>0</th>\n",
       "      <td>2018-10-17</td>\n",
       "      <td>1</td>\n",
       "      <td>1000</td>\n",
       "      <td>1</td>\n",
       "      <td>5</td>\n",
       "      <td>Natural Chip        Compny SeaSalt175g</td>\n",
       "      <td>2</td>\n",
       "      <td>6.0</td>\n",
       "    </tr>\n",
       "    <tr>\n",
       "      <th>1</th>\n",
       "      <td>2019-05-14</td>\n",
       "      <td>1</td>\n",
       "      <td>1307</td>\n",
       "      <td>348</td>\n",
       "      <td>66</td>\n",
       "      <td>CCs Nacho Cheese    175g</td>\n",
       "      <td>3</td>\n",
       "      <td>6.3</td>\n",
       "    </tr>\n",
       "    <tr>\n",
       "      <th>2</th>\n",
       "      <td>2019-05-20</td>\n",
       "      <td>1</td>\n",
       "      <td>1343</td>\n",
       "      <td>383</td>\n",
       "      <td>61</td>\n",
       "      <td>Smiths Crinkle Cut  Chips Chicken 170g</td>\n",
       "      <td>2</td>\n",
       "      <td>2.9</td>\n",
       "    </tr>\n",
       "    <tr>\n",
       "      <th>3</th>\n",
       "      <td>2018-08-17</td>\n",
       "      <td>2</td>\n",
       "      <td>2373</td>\n",
       "      <td>974</td>\n",
       "      <td>69</td>\n",
       "      <td>Smiths Chip Thinly  S/Cream&amp;Onion 175g</td>\n",
       "      <td>5</td>\n",
       "      <td>15.0</td>\n",
       "    </tr>\n",
       "    <tr>\n",
       "      <th>4</th>\n",
       "      <td>2018-08-18</td>\n",
       "      <td>2</td>\n",
       "      <td>2426</td>\n",
       "      <td>1038</td>\n",
       "      <td>108</td>\n",
       "      <td>Kettle Tortilla ChpsHny&amp;Jlpno Chili 150g</td>\n",
       "      <td>3</td>\n",
       "      <td>13.8</td>\n",
       "    </tr>\n",
       "  </tbody>\n",
       "</table>\n",
       "</div>"
      ],
      "text/plain": [
       "        date  store_nbr  card_num  txn_id  prod_nbr  \\\n",
       "0 2018-10-17          1      1000       1         5   \n",
       "1 2019-05-14          1      1307     348        66   \n",
       "2 2019-05-20          1      1343     383        61   \n",
       "3 2018-08-17          2      2373     974        69   \n",
       "4 2018-08-18          2      2426    1038       108   \n",
       "\n",
       "                                  prod_name  prod_qty  tot_sales  \n",
       "0    Natural Chip        Compny SeaSalt175g         2        6.0  \n",
       "1                  CCs Nacho Cheese    175g         3        6.3  \n",
       "2    Smiths Crinkle Cut  Chips Chicken 170g         2        2.9  \n",
       "3    Smiths Chip Thinly  S/Cream&Onion 175g         5       15.0  \n",
       "4  Kettle Tortilla ChpsHny&Jlpno Chili 150g         3       13.8  "
      ]
     },
     "execution_count": 8,
     "metadata": {},
     "output_type": "execute_result"
    }
   ],
   "source": [
    "df.head()"
   ]
  },
  {
   "cell_type": "code",
   "execution_count": 9,
   "metadata": {},
   "outputs": [],
   "source": [
    "##Change id variables to categorical values\n",
    "obj_type = ['store_nbr', 'card_num', 'txn_id', 'prod_nbr']\n",
    "df[obj_type] = df[obj_type].astype(str)"
   ]
  },
  {
   "cell_type": "code",
   "execution_count": 10,
   "metadata": {},
   "outputs": [],
   "source": [
    "#create product price columns\n",
    "df['prod_price'] = df.tot_sales/df.prod_qty"
   ]
  },
  {
   "cell_type": "code",
   "execution_count": 11,
   "metadata": {},
   "outputs": [],
   "source": [
    "bad_char =  [\"%\", \"/\", \"&\", \",\", \"(\",\")\"]\n",
    "\n",
    "for i in bad_char:\n",
    "    df['prod_name'] = df.prod_name.str.replace(i,\" \").astype(str)\n",
    "    "
   ]
  },
  {
   "cell_type": "code",
   "execution_count": 12,
   "metadata": {},
   "outputs": [
    {
     "data": {
      "text/html": [
       "<div>\n",
       "<style scoped>\n",
       "    .dataframe tbody tr th:only-of-type {\n",
       "        vertical-align: middle;\n",
       "    }\n",
       "\n",
       "    .dataframe tbody tr th {\n",
       "        vertical-align: top;\n",
       "    }\n",
       "\n",
       "    .dataframe thead th {\n",
       "        text-align: right;\n",
       "    }\n",
       "</style>\n",
       "<table border=\"1\" class=\"dataframe\">\n",
       "  <thead>\n",
       "    <tr style=\"text-align: right;\">\n",
       "      <th></th>\n",
       "      <th>date</th>\n",
       "      <th>store_nbr</th>\n",
       "      <th>card_num</th>\n",
       "      <th>txn_id</th>\n",
       "      <th>prod_nbr</th>\n",
       "      <th>prod_name</th>\n",
       "      <th>prod_qty</th>\n",
       "      <th>tot_sales</th>\n",
       "      <th>prod_price</th>\n",
       "    </tr>\n",
       "  </thead>\n",
       "  <tbody>\n",
       "    <tr>\n",
       "      <th>0</th>\n",
       "      <td>2018-10-17</td>\n",
       "      <td>1</td>\n",
       "      <td>1000</td>\n",
       "      <td>1</td>\n",
       "      <td>5</td>\n",
       "      <td>Natural Chip        Compny SeaSalt175g</td>\n",
       "      <td>2</td>\n",
       "      <td>6.0</td>\n",
       "      <td>3.00</td>\n",
       "    </tr>\n",
       "    <tr>\n",
       "      <th>1</th>\n",
       "      <td>2019-05-14</td>\n",
       "      <td>1</td>\n",
       "      <td>1307</td>\n",
       "      <td>348</td>\n",
       "      <td>66</td>\n",
       "      <td>CCs Nacho Cheese    175g</td>\n",
       "      <td>3</td>\n",
       "      <td>6.3</td>\n",
       "      <td>2.10</td>\n",
       "    </tr>\n",
       "    <tr>\n",
       "      <th>2</th>\n",
       "      <td>2019-05-20</td>\n",
       "      <td>1</td>\n",
       "      <td>1343</td>\n",
       "      <td>383</td>\n",
       "      <td>61</td>\n",
       "      <td>Smiths Crinkle Cut  Chips Chicken 170g</td>\n",
       "      <td>2</td>\n",
       "      <td>2.9</td>\n",
       "      <td>1.45</td>\n",
       "    </tr>\n",
       "    <tr>\n",
       "      <th>3</th>\n",
       "      <td>2018-08-17</td>\n",
       "      <td>2</td>\n",
       "      <td>2373</td>\n",
       "      <td>974</td>\n",
       "      <td>69</td>\n",
       "      <td>Smiths Chip Thinly  S Cream Onion 175g</td>\n",
       "      <td>5</td>\n",
       "      <td>15.0</td>\n",
       "      <td>3.00</td>\n",
       "    </tr>\n",
       "    <tr>\n",
       "      <th>4</th>\n",
       "      <td>2018-08-18</td>\n",
       "      <td>2</td>\n",
       "      <td>2426</td>\n",
       "      <td>1038</td>\n",
       "      <td>108</td>\n",
       "      <td>Kettle Tortilla ChpsHny Jlpno Chili 150g</td>\n",
       "      <td>3</td>\n",
       "      <td>13.8</td>\n",
       "      <td>4.60</td>\n",
       "    </tr>\n",
       "  </tbody>\n",
       "</table>\n",
       "</div>"
      ],
      "text/plain": [
       "        date store_nbr card_num txn_id prod_nbr  \\\n",
       "0 2018-10-17         1     1000      1        5   \n",
       "1 2019-05-14         1     1307    348       66   \n",
       "2 2019-05-20         1     1343    383       61   \n",
       "3 2018-08-17         2     2373    974       69   \n",
       "4 2018-08-18         2     2426   1038      108   \n",
       "\n",
       "                                  prod_name  prod_qty  tot_sales  prod_price  \n",
       "0    Natural Chip        Compny SeaSalt175g         2        6.0        3.00  \n",
       "1                  CCs Nacho Cheese    175g         3        6.3        2.10  \n",
       "2    Smiths Crinkle Cut  Chips Chicken 170g         2        2.9        1.45  \n",
       "3    Smiths Chip Thinly  S Cream Onion 175g         5       15.0        3.00  \n",
       "4  Kettle Tortilla ChpsHny Jlpno Chili 150g         3       13.8        4.60  "
      ]
     },
     "execution_count": 12,
     "metadata": {},
     "output_type": "execute_result"
    }
   ],
   "source": [
    "df.head()"
   ]
  },
  {
   "cell_type": "code",
   "execution_count": 13,
   "metadata": {},
   "outputs": [],
   "source": [
    "df[\"prod_size\"] = df[\"prod_name\"].str.extract('(\\d+.)')\n",
    "bad_char =  [\"%\", \"/\", \"&\", \",\", \"(\",\")\"]\n",
    "\n",
    "for i in bad_char:\n",
    "    df['prod_name'] = df.prod_name.str.replace(i, \" \").astype(str)\n",
    "    #Extract size of the product\n",
    "    df['prod_size'] = df['prod_name'].str.extract(r'(\\d+)').astype(np.int64)\n",
    "    #Extract size unit of the product\n",
    "    df['prod_unit'] = df['prod_name'].str.extract(r'(\\D+$)')\n",
    "    \n",
    "    "
   ]
  },
  {
   "cell_type": "code",
   "execution_count": 14,
   "metadata": {},
   "outputs": [
    {
     "data": {
      "text/html": [
       "<div>\n",
       "<style scoped>\n",
       "    .dataframe tbody tr th:only-of-type {\n",
       "        vertical-align: middle;\n",
       "    }\n",
       "\n",
       "    .dataframe tbody tr th {\n",
       "        vertical-align: top;\n",
       "    }\n",
       "\n",
       "    .dataframe thead th {\n",
       "        text-align: right;\n",
       "    }\n",
       "</style>\n",
       "<table border=\"1\" class=\"dataframe\">\n",
       "  <thead>\n",
       "    <tr style=\"text-align: right;\">\n",
       "      <th></th>\n",
       "      <th>date</th>\n",
       "      <th>store_nbr</th>\n",
       "      <th>card_num</th>\n",
       "      <th>txn_id</th>\n",
       "      <th>prod_nbr</th>\n",
       "      <th>prod_name</th>\n",
       "      <th>prod_qty</th>\n",
       "      <th>tot_sales</th>\n",
       "      <th>prod_price</th>\n",
       "      <th>prod_size</th>\n",
       "      <th>prod_unit</th>\n",
       "    </tr>\n",
       "  </thead>\n",
       "  <tbody>\n",
       "    <tr>\n",
       "      <th>0</th>\n",
       "      <td>2018-10-17</td>\n",
       "      <td>1</td>\n",
       "      <td>1000</td>\n",
       "      <td>1</td>\n",
       "      <td>5</td>\n",
       "      <td>Natural Chip        Compny SeaSalt175g</td>\n",
       "      <td>2</td>\n",
       "      <td>6.0</td>\n",
       "      <td>3.00</td>\n",
       "      <td>175</td>\n",
       "      <td>g</td>\n",
       "    </tr>\n",
       "    <tr>\n",
       "      <th>1</th>\n",
       "      <td>2019-05-14</td>\n",
       "      <td>1</td>\n",
       "      <td>1307</td>\n",
       "      <td>348</td>\n",
       "      <td>66</td>\n",
       "      <td>CCs Nacho Cheese    175g</td>\n",
       "      <td>3</td>\n",
       "      <td>6.3</td>\n",
       "      <td>2.10</td>\n",
       "      <td>175</td>\n",
       "      <td>g</td>\n",
       "    </tr>\n",
       "    <tr>\n",
       "      <th>2</th>\n",
       "      <td>2019-05-20</td>\n",
       "      <td>1</td>\n",
       "      <td>1343</td>\n",
       "      <td>383</td>\n",
       "      <td>61</td>\n",
       "      <td>Smiths Crinkle Cut  Chips Chicken 170g</td>\n",
       "      <td>2</td>\n",
       "      <td>2.9</td>\n",
       "      <td>1.45</td>\n",
       "      <td>170</td>\n",
       "      <td>g</td>\n",
       "    </tr>\n",
       "    <tr>\n",
       "      <th>3</th>\n",
       "      <td>2018-08-17</td>\n",
       "      <td>2</td>\n",
       "      <td>2373</td>\n",
       "      <td>974</td>\n",
       "      <td>69</td>\n",
       "      <td>Smiths Chip Thinly  S Cream Onion 175g</td>\n",
       "      <td>5</td>\n",
       "      <td>15.0</td>\n",
       "      <td>3.00</td>\n",
       "      <td>175</td>\n",
       "      <td>g</td>\n",
       "    </tr>\n",
       "    <tr>\n",
       "      <th>4</th>\n",
       "      <td>2018-08-18</td>\n",
       "      <td>2</td>\n",
       "      <td>2426</td>\n",
       "      <td>1038</td>\n",
       "      <td>108</td>\n",
       "      <td>Kettle Tortilla ChpsHny Jlpno Chili 150g</td>\n",
       "      <td>3</td>\n",
       "      <td>13.8</td>\n",
       "      <td>4.60</td>\n",
       "      <td>150</td>\n",
       "      <td>g</td>\n",
       "    </tr>\n",
       "  </tbody>\n",
       "</table>\n",
       "</div>"
      ],
      "text/plain": [
       "        date store_nbr card_num txn_id prod_nbr  \\\n",
       "0 2018-10-17         1     1000      1        5   \n",
       "1 2019-05-14         1     1307    348       66   \n",
       "2 2019-05-20         1     1343    383       61   \n",
       "3 2018-08-17         2     2373    974       69   \n",
       "4 2018-08-18         2     2426   1038      108   \n",
       "\n",
       "                                  prod_name  prod_qty  tot_sales  prod_price  \\\n",
       "0    Natural Chip        Compny SeaSalt175g         2        6.0        3.00   \n",
       "1                  CCs Nacho Cheese    175g         3        6.3        2.10   \n",
       "2    Smiths Crinkle Cut  Chips Chicken 170g         2        2.9        1.45   \n",
       "3    Smiths Chip Thinly  S Cream Onion 175g         5       15.0        3.00   \n",
       "4  Kettle Tortilla ChpsHny Jlpno Chili 150g         3       13.8        4.60   \n",
       "\n",
       "   prod_size prod_unit  \n",
       "0        175         g  \n",
       "1        175         g  \n",
       "2        170         g  \n",
       "3        175         g  \n",
       "4        150         g  "
      ]
     },
     "execution_count": 14,
     "metadata": {},
     "output_type": "execute_result"
    }
   ],
   "source": [
    "df.head()"
   ]
  },
  {
   "cell_type": "code",
   "execution_count": 15,
   "metadata": {},
   "outputs": [
    {
     "data": {
      "text/html": [
       "<div>\n",
       "<style scoped>\n",
       "    .dataframe tbody tr th:only-of-type {\n",
       "        vertical-align: middle;\n",
       "    }\n",
       "\n",
       "    .dataframe tbody tr th {\n",
       "        vertical-align: top;\n",
       "    }\n",
       "\n",
       "    .dataframe thead th {\n",
       "        text-align: right;\n",
       "    }\n",
       "</style>\n",
       "<table border=\"1\" class=\"dataframe\">\n",
       "  <thead>\n",
       "    <tr style=\"text-align: right;\">\n",
       "      <th></th>\n",
       "      <th>prod_qty</th>\n",
       "      <th>tot_sales</th>\n",
       "      <th>prod_price</th>\n",
       "      <th>prod_size</th>\n",
       "    </tr>\n",
       "  </thead>\n",
       "  <tbody>\n",
       "    <tr>\n",
       "      <th>count</th>\n",
       "      <td>264836.000000</td>\n",
       "      <td>264836.000000</td>\n",
       "      <td>264836.000000</td>\n",
       "      <td>264836.000000</td>\n",
       "    </tr>\n",
       "    <tr>\n",
       "      <th>mean</th>\n",
       "      <td>1.907309</td>\n",
       "      <td>7.304200</td>\n",
       "      <td>3.824624</td>\n",
       "      <td>182.427004</td>\n",
       "    </tr>\n",
       "    <tr>\n",
       "      <th>std</th>\n",
       "      <td>0.643654</td>\n",
       "      <td>3.083226</td>\n",
       "      <td>1.109523</td>\n",
       "      <td>64.327196</td>\n",
       "    </tr>\n",
       "    <tr>\n",
       "      <th>min</th>\n",
       "      <td>1.000000</td>\n",
       "      <td>1.500000</td>\n",
       "      <td>1.320000</td>\n",
       "      <td>70.000000</td>\n",
       "    </tr>\n",
       "    <tr>\n",
       "      <th>25%</th>\n",
       "      <td>2.000000</td>\n",
       "      <td>5.400000</td>\n",
       "      <td>3.000000</td>\n",
       "      <td>150.000000</td>\n",
       "    </tr>\n",
       "    <tr>\n",
       "      <th>50%</th>\n",
       "      <td>2.000000</td>\n",
       "      <td>7.400000</td>\n",
       "      <td>3.800000</td>\n",
       "      <td>170.000000</td>\n",
       "    </tr>\n",
       "    <tr>\n",
       "      <th>75%</th>\n",
       "      <td>2.000000</td>\n",
       "      <td>9.200000</td>\n",
       "      <td>4.600000</td>\n",
       "      <td>175.000000</td>\n",
       "    </tr>\n",
       "    <tr>\n",
       "      <th>max</th>\n",
       "      <td>200.000000</td>\n",
       "      <td>650.000000</td>\n",
       "      <td>6.500000</td>\n",
       "      <td>380.000000</td>\n",
       "    </tr>\n",
       "  </tbody>\n",
       "</table>\n",
       "</div>"
      ],
      "text/plain": [
       "            prod_qty      tot_sales     prod_price      prod_size\n",
       "count  264836.000000  264836.000000  264836.000000  264836.000000\n",
       "mean        1.907309       7.304200       3.824624     182.427004\n",
       "std         0.643654       3.083226       1.109523      64.327196\n",
       "min         1.000000       1.500000       1.320000      70.000000\n",
       "25%         2.000000       5.400000       3.000000     150.000000\n",
       "50%         2.000000       7.400000       3.800000     170.000000\n",
       "75%         2.000000       9.200000       4.600000     175.000000\n",
       "max       200.000000     650.000000       6.500000     380.000000"
      ]
     },
     "execution_count": 15,
     "metadata": {},
     "output_type": "execute_result"
    }
   ],
   "source": [
    "df.describe()"
   ]
  },
  {
   "cell_type": "markdown",
   "metadata": {},
   "source": [
    "We can see some outliers in this data."
   ]
  },
  {
   "cell_type": "code",
   "execution_count": 16,
   "metadata": {},
   "outputs": [
    {
     "data": {
      "text/plain": [
       "Text(0.5, 1.0, 'Boxplots of product quantity, price, and total sales')"
      ]
     },
     "execution_count": 16,
     "metadata": {},
     "output_type": "execute_result"
    },
    {
     "data": {
      "image/png": "[encoded data removed]",
      "text/plain": [
       "<Figure size 720x432 with 1 Axes>"
      ]
     },
     "metadata": {
      "needs_background": "light"
     },
     "output_type": "display_data"
    }
   ],
   "source": [
    "#Box plot of prod_qty, tot_sales and prod_price\n",
    "#Draw boxplots\n",
    "\n",
    "df.plot.box(y=['prod_qty','prod_price','tot_sales'],\n",
    "               figsize=(10,6))\n",
    "\n",
    "plt.title('Boxplots of product quantity, price, and total sales', fontsize=16)"
   ]
  },
  {
   "cell_type": "code",
   "execution_count": 17,
   "metadata": {},
   "outputs": [
    {
     "data": {
      "text/html": [
       "<div>\n",
       "<style scoped>\n",
       "    .dataframe tbody tr th:only-of-type {\n",
       "        vertical-align: middle;\n",
       "    }\n",
       "\n",
       "    .dataframe tbody tr th {\n",
       "        vertical-align: top;\n",
       "    }\n",
       "\n",
       "    .dataframe thead th {\n",
       "        text-align: right;\n",
       "    }\n",
       "</style>\n",
       "<table border=\"1\" class=\"dataframe\">\n",
       "  <thead>\n",
       "    <tr style=\"text-align: right;\">\n",
       "      <th></th>\n",
       "      <th>date</th>\n",
       "      <th>store_nbr</th>\n",
       "      <th>card_num</th>\n",
       "      <th>txn_id</th>\n",
       "      <th>prod_nbr</th>\n",
       "      <th>prod_name</th>\n",
       "      <th>prod_qty</th>\n",
       "      <th>tot_sales</th>\n",
       "      <th>prod_price</th>\n",
       "      <th>prod_size</th>\n",
       "      <th>prod_unit</th>\n",
       "    </tr>\n",
       "  </thead>\n",
       "  <tbody>\n",
       "    <tr>\n",
       "      <th>69762</th>\n",
       "      <td>2018-08-19</td>\n",
       "      <td>226</td>\n",
       "      <td>226000</td>\n",
       "      <td>226201</td>\n",
       "      <td>4</td>\n",
       "      <td>Dorito Corn Chp     Supreme 380g</td>\n",
       "      <td>200</td>\n",
       "      <td>650.0</td>\n",
       "      <td>3.25</td>\n",
       "      <td>380</td>\n",
       "      <td>g</td>\n",
       "    </tr>\n",
       "    <tr>\n",
       "      <th>69763</th>\n",
       "      <td>2019-05-20</td>\n",
       "      <td>226</td>\n",
       "      <td>226000</td>\n",
       "      <td>226210</td>\n",
       "      <td>4</td>\n",
       "      <td>Dorito Corn Chp     Supreme 380g</td>\n",
       "      <td>200</td>\n",
       "      <td>650.0</td>\n",
       "      <td>3.25</td>\n",
       "      <td>380</td>\n",
       "      <td>g</td>\n",
       "    </tr>\n",
       "  </tbody>\n",
       "</table>\n",
       "</div>"
      ],
      "text/plain": [
       "            date store_nbr card_num  txn_id prod_nbr  \\\n",
       "69762 2018-08-19       226   226000  226201        4   \n",
       "69763 2019-05-20       226   226000  226210        4   \n",
       "\n",
       "                              prod_name  prod_qty  tot_sales  prod_price  \\\n",
       "69762  Dorito Corn Chp     Supreme 380g       200      650.0        3.25   \n",
       "69763  Dorito Corn Chp     Supreme 380g       200      650.0        3.25   \n",
       "\n",
       "       prod_size prod_unit  \n",
       "69762        380         g  \n",
       "69763        380         g  "
      ]
     },
     "execution_count": 17,
     "metadata": {},
     "output_type": "execute_result"
    }
   ],
   "source": [
    "outlier = df[df[\"prod_qty\"] > 100]\n",
    "outlier"
   ]
  },
  {
   "cell_type": "code",
   "execution_count": 18,
   "metadata": {},
   "outputs": [
    {
     "data": {
      "text/html": [
       "<div>\n",
       "<style scoped>\n",
       "    .dataframe tbody tr th:only-of-type {\n",
       "        vertical-align: middle;\n",
       "    }\n",
       "\n",
       "    .dataframe tbody tr th {\n",
       "        vertical-align: top;\n",
       "    }\n",
       "\n",
       "    .dataframe thead th {\n",
       "        text-align: right;\n",
       "    }\n",
       "</style>\n",
       "<table border=\"1\" class=\"dataframe\">\n",
       "  <thead>\n",
       "    <tr style=\"text-align: right;\">\n",
       "      <th></th>\n",
       "      <th>date</th>\n",
       "      <th>store_nbr</th>\n",
       "      <th>card_num</th>\n",
       "      <th>txn_id</th>\n",
       "      <th>prod_nbr</th>\n",
       "      <th>prod_name</th>\n",
       "      <th>prod_qty</th>\n",
       "      <th>tot_sales</th>\n",
       "      <th>prod_price</th>\n",
       "      <th>prod_size</th>\n",
       "      <th>prod_unit</th>\n",
       "    </tr>\n",
       "  </thead>\n",
       "  <tbody>\n",
       "    <tr>\n",
       "      <th>69762</th>\n",
       "      <td>2018-08-19</td>\n",
       "      <td>226</td>\n",
       "      <td>226000</td>\n",
       "      <td>226201</td>\n",
       "      <td>4</td>\n",
       "      <td>Dorito Corn Chp     Supreme 380g</td>\n",
       "      <td>200</td>\n",
       "      <td>650.0</td>\n",
       "      <td>3.25</td>\n",
       "      <td>380</td>\n",
       "      <td>g</td>\n",
       "    </tr>\n",
       "    <tr>\n",
       "      <th>69763</th>\n",
       "      <td>2019-05-20</td>\n",
       "      <td>226</td>\n",
       "      <td>226000</td>\n",
       "      <td>226210</td>\n",
       "      <td>4</td>\n",
       "      <td>Dorito Corn Chp     Supreme 380g</td>\n",
       "      <td>200</td>\n",
       "      <td>650.0</td>\n",
       "      <td>3.25</td>\n",
       "      <td>380</td>\n",
       "      <td>g</td>\n",
       "    </tr>\n",
       "  </tbody>\n",
       "</table>\n",
       "</div>"
      ],
      "text/plain": [
       "            date store_nbr card_num  txn_id prod_nbr  \\\n",
       "69762 2018-08-19       226   226000  226201        4   \n",
       "69763 2019-05-20       226   226000  226210        4   \n",
       "\n",
       "                              prod_name  prod_qty  tot_sales  prod_price  \\\n",
       "69762  Dorito Corn Chp     Supreme 380g       200      650.0        3.25   \n",
       "69763  Dorito Corn Chp     Supreme 380g       200      650.0        3.25   \n",
       "\n",
       "       prod_size prod_unit  \n",
       "69762        380         g  \n",
       "69763        380         g  "
      ]
     },
     "execution_count": 18,
     "metadata": {},
     "output_type": "execute_result"
    }
   ],
   "source": [
    "# check other purchase of that card number\n",
    "df[df[\"card_num\"] == \"226000\"]"
   ]
  },
  {
   "cell_type": "code",
   "execution_count": 19,
   "metadata": {},
   "outputs": [],
   "source": [
    "df = df[df['prod_qty'] < 100]"
   ]
  },
  {
   "cell_type": "code",
   "execution_count": 20,
   "metadata": {},
   "outputs": [
    {
     "data": {
      "text/plain": [
       "prod_qty      5.0\n",
       "tot_sales    29.5\n",
       "dtype: float64"
      ]
     },
     "execution_count": 20,
     "metadata": {},
     "output_type": "execute_result"
    }
   ],
   "source": [
    "df[['prod_qty', 'tot_sales']].max()"
   ]
  },
  {
   "cell_type": "code",
   "execution_count": 21,
   "metadata": {},
   "outputs": [
    {
     "data": {
      "text/plain": [
       "Text(0.5, 1.0, 'Boxplots of product quantity, price, and total sales')"
      ]
     },
     "execution_count": 21,
     "metadata": {},
     "output_type": "execute_result"
    },
    {
     "data": {
      "image/png": "[encoded data removed]",
      "text/plain": [
       "<Figure size 432x288 with 1 Axes>"
      ]
     },
     "metadata": {
      "needs_background": "light"
     },
     "output_type": "display_data"
    }
   ],
   "source": [
    "df.plot.box(y =[\"prod_qty\", \"prod_price\", \"tot_sales\"])\n",
    "plt.title(\"Boxplots of product quantity, price, and total sales\",fontsize=16)"
   ]
  },
  {
   "cell_type": "code",
   "execution_count": 22,
   "metadata": {},
   "outputs": [
    {
     "data": {
      "text/html": [
       "<div>\n",
       "<style scoped>\n",
       "    .dataframe tbody tr th:only-of-type {\n",
       "        vertical-align: middle;\n",
       "    }\n",
       "\n",
       "    .dataframe tbody tr th {\n",
       "        vertical-align: top;\n",
       "    }\n",
       "\n",
       "    .dataframe thead th {\n",
       "        text-align: right;\n",
       "    }\n",
       "</style>\n",
       "<table border=\"1\" class=\"dataframe\">\n",
       "  <thead>\n",
       "    <tr style=\"text-align: right;\">\n",
       "      <th></th>\n",
       "      <th>date</th>\n",
       "    </tr>\n",
       "  </thead>\n",
       "  <tbody>\n",
       "    <tr>\n",
       "      <th>count</th>\n",
       "      <td>264834</td>\n",
       "    </tr>\n",
       "    <tr>\n",
       "      <th>unique</th>\n",
       "      <td>364</td>\n",
       "    </tr>\n",
       "    <tr>\n",
       "      <th>top</th>\n",
       "      <td>2018-12-24 00:00:00</td>\n",
       "    </tr>\n",
       "    <tr>\n",
       "      <th>freq</th>\n",
       "      <td>939</td>\n",
       "    </tr>\n",
       "    <tr>\n",
       "      <th>first</th>\n",
       "      <td>2018-07-01 00:00:00</td>\n",
       "    </tr>\n",
       "    <tr>\n",
       "      <th>last</th>\n",
       "      <td>2019-06-30 00:00:00</td>\n",
       "    </tr>\n",
       "  </tbody>\n",
       "</table>\n",
       "</div>"
      ],
      "text/plain": [
       "                       date\n",
       "count                264834\n",
       "unique                  364\n",
       "top     2018-12-24 00:00:00\n",
       "freq                    939\n",
       "first   2018-07-01 00:00:00\n",
       "last    2019-06-30 00:00:00"
      ]
     },
     "execution_count": 22,
     "metadata": {},
     "output_type": "execute_result"
    }
   ],
   "source": [
    "#Check datetime values\n",
    "df.describe(include=np.datetime64)"
   ]
  },
  {
   "cell_type": "code",
   "execution_count": 23,
   "metadata": {},
   "outputs": [
    {
     "data": {
      "text/html": [
       "<div>\n",
       "<style scoped>\n",
       "    .dataframe tbody tr th:only-of-type {\n",
       "        vertical-align: middle;\n",
       "    }\n",
       "\n",
       "    .dataframe tbody tr th {\n",
       "        vertical-align: top;\n",
       "    }\n",
       "\n",
       "    .dataframe thead th {\n",
       "        text-align: right;\n",
       "    }\n",
       "</style>\n",
       "<table border=\"1\" class=\"dataframe\">\n",
       "  <thead>\n",
       "    <tr style=\"text-align: right;\">\n",
       "      <th></th>\n",
       "      <th>date</th>\n",
       "      <th>_merge</th>\n",
       "    </tr>\n",
       "  </thead>\n",
       "  <tbody>\n",
       "    <tr>\n",
       "      <th>264834</th>\n",
       "      <td>2018-12-25</td>\n",
       "      <td>right_only</td>\n",
       "    </tr>\n",
       "  </tbody>\n",
       "</table>\n",
       "</div>"
      ],
      "text/plain": [
       "             date      _merge\n",
       "264834 2018-12-25  right_only"
      ]
     },
     "execution_count": 23,
     "metadata": {},
     "output_type": "execute_result"
    }
   ],
   "source": [
    "# create list of date from 07/01/2018 to 06/30/2019\n",
    "date_range = pd.DataFrame(pd.date_range('2018-07-01', '2019-06-30').to_list(), columns = ['date'])\n",
    "#Merge this list to column date, showing indicator\n",
    "date_merge = pd.merge(df['date'], date_range, on= 'date', how= 'outer', indicator=True)\n",
    "#Row that has indicator (_merge column) as right_only contains the missing date\n",
    "date_merge[date_merge['_merge'] == 'right_only']"
   ]
  },
  {
   "cell_type": "code",
   "execution_count": 24,
   "metadata": {},
   "outputs": [],
   "source": [
    "#Create new columns for year, month, and weekday\n",
    "df['year'], df['month'], df['weekday'] = \\\n",
    "df['date'].dt.year, df['date'].dt.month, df['date'].dt.day_name()"
   ]
  },
  {
   "cell_type": "code",
   "execution_count": 25,
   "metadata": {},
   "outputs": [
    {
     "data": {
      "text/html": [
       "<div>\n",
       "<style scoped>\n",
       "    .dataframe tbody tr th:only-of-type {\n",
       "        vertical-align: middle;\n",
       "    }\n",
       "\n",
       "    .dataframe tbody tr th {\n",
       "        vertical-align: top;\n",
       "    }\n",
       "\n",
       "    .dataframe thead th {\n",
       "        text-align: right;\n",
       "    }\n",
       "</style>\n",
       "<table border=\"1\" class=\"dataframe\">\n",
       "  <thead>\n",
       "    <tr style=\"text-align: right;\">\n",
       "      <th></th>\n",
       "      <th>date</th>\n",
       "      <th>store_nbr</th>\n",
       "      <th>card_num</th>\n",
       "      <th>txn_id</th>\n",
       "      <th>prod_nbr</th>\n",
       "      <th>prod_name</th>\n",
       "      <th>prod_qty</th>\n",
       "      <th>tot_sales</th>\n",
       "      <th>prod_price</th>\n",
       "      <th>prod_size</th>\n",
       "      <th>prod_unit</th>\n",
       "      <th>year</th>\n",
       "      <th>month</th>\n",
       "      <th>weekday</th>\n",
       "    </tr>\n",
       "  </thead>\n",
       "  <tbody>\n",
       "    <tr>\n",
       "      <th>0</th>\n",
       "      <td>2018-10-17</td>\n",
       "      <td>1</td>\n",
       "      <td>1000</td>\n",
       "      <td>1</td>\n",
       "      <td>5</td>\n",
       "      <td>Natural Chip        Compny SeaSalt175g</td>\n",
       "      <td>2</td>\n",
       "      <td>6.0</td>\n",
       "      <td>3.00</td>\n",
       "      <td>175</td>\n",
       "      <td>g</td>\n",
       "      <td>2018</td>\n",
       "      <td>10</td>\n",
       "      <td>Wednesday</td>\n",
       "    </tr>\n",
       "    <tr>\n",
       "      <th>1</th>\n",
       "      <td>2019-05-14</td>\n",
       "      <td>1</td>\n",
       "      <td>1307</td>\n",
       "      <td>348</td>\n",
       "      <td>66</td>\n",
       "      <td>CCs Nacho Cheese    175g</td>\n",
       "      <td>3</td>\n",
       "      <td>6.3</td>\n",
       "      <td>2.10</td>\n",
       "      <td>175</td>\n",
       "      <td>g</td>\n",
       "      <td>2019</td>\n",
       "      <td>5</td>\n",
       "      <td>Tuesday</td>\n",
       "    </tr>\n",
       "    <tr>\n",
       "      <th>2</th>\n",
       "      <td>2019-05-20</td>\n",
       "      <td>1</td>\n",
       "      <td>1343</td>\n",
       "      <td>383</td>\n",
       "      <td>61</td>\n",
       "      <td>Smiths Crinkle Cut  Chips Chicken 170g</td>\n",
       "      <td>2</td>\n",
       "      <td>2.9</td>\n",
       "      <td>1.45</td>\n",
       "      <td>170</td>\n",
       "      <td>g</td>\n",
       "      <td>2019</td>\n",
       "      <td>5</td>\n",
       "      <td>Monday</td>\n",
       "    </tr>\n",
       "    <tr>\n",
       "      <th>3</th>\n",
       "      <td>2018-08-17</td>\n",
       "      <td>2</td>\n",
       "      <td>2373</td>\n",
       "      <td>974</td>\n",
       "      <td>69</td>\n",
       "      <td>Smiths Chip Thinly  S Cream Onion 175g</td>\n",
       "      <td>5</td>\n",
       "      <td>15.0</td>\n",
       "      <td>3.00</td>\n",
       "      <td>175</td>\n",
       "      <td>g</td>\n",
       "      <td>2018</td>\n",
       "      <td>8</td>\n",
       "      <td>Friday</td>\n",
       "    </tr>\n",
       "    <tr>\n",
       "      <th>4</th>\n",
       "      <td>2018-08-18</td>\n",
       "      <td>2</td>\n",
       "      <td>2426</td>\n",
       "      <td>1038</td>\n",
       "      <td>108</td>\n",
       "      <td>Kettle Tortilla ChpsHny Jlpno Chili 150g</td>\n",
       "      <td>3</td>\n",
       "      <td>13.8</td>\n",
       "      <td>4.60</td>\n",
       "      <td>150</td>\n",
       "      <td>g</td>\n",
       "      <td>2018</td>\n",
       "      <td>8</td>\n",
       "      <td>Saturday</td>\n",
       "    </tr>\n",
       "  </tbody>\n",
       "</table>\n",
       "</div>"
      ],
      "text/plain": [
       "        date store_nbr card_num txn_id prod_nbr  \\\n",
       "0 2018-10-17         1     1000      1        5   \n",
       "1 2019-05-14         1     1307    348       66   \n",
       "2 2019-05-20         1     1343    383       61   \n",
       "3 2018-08-17         2     2373    974       69   \n",
       "4 2018-08-18         2     2426   1038      108   \n",
       "\n",
       "                                  prod_name  prod_qty  tot_sales  prod_price  \\\n",
       "0    Natural Chip        Compny SeaSalt175g         2        6.0        3.00   \n",
       "1                  CCs Nacho Cheese    175g         3        6.3        2.10   \n",
       "2    Smiths Crinkle Cut  Chips Chicken 170g         2        2.9        1.45   \n",
       "3    Smiths Chip Thinly  S Cream Onion 175g         5       15.0        3.00   \n",
       "4  Kettle Tortilla ChpsHny Jlpno Chili 150g         3       13.8        4.60   \n",
       "\n",
       "   prod_size prod_unit  year  month    weekday  \n",
       "0        175         g  2018     10  Wednesday  \n",
       "1        175         g  2019      5    Tuesday  \n",
       "2        170         g  2019      5     Monday  \n",
       "3        175         g  2018      8     Friday  \n",
       "4        150         g  2018      8   Saturday  "
      ]
     },
     "execution_count": 25,
     "metadata": {},
     "output_type": "execute_result"
    }
   ],
   "source": [
    "df.head()"
   ]
  },
  {
   "cell_type": "code",
   "execution_count": 26,
   "metadata": {},
   "outputs": [
    {
     "data": {
      "text/html": [
       "<div>\n",
       "<style scoped>\n",
       "    .dataframe tbody tr th:only-of-type {\n",
       "        vertical-align: middle;\n",
       "    }\n",
       "\n",
       "    .dataframe tbody tr th {\n",
       "        vertical-align: top;\n",
       "    }\n",
       "\n",
       "    .dataframe thead th {\n",
       "        text-align: right;\n",
       "    }\n",
       "</style>\n",
       "<table border=\"1\" class=\"dataframe\">\n",
       "  <thead>\n",
       "    <tr style=\"text-align: right;\">\n",
       "      <th></th>\n",
       "      <th>store_nbr</th>\n",
       "      <th>card_num</th>\n",
       "      <th>txn_id</th>\n",
       "      <th>prod_nbr</th>\n",
       "      <th>prod_name</th>\n",
       "      <th>prod_unit</th>\n",
       "      <th>weekday</th>\n",
       "    </tr>\n",
       "  </thead>\n",
       "  <tbody>\n",
       "    <tr>\n",
       "      <th>count</th>\n",
       "      <td>264834</td>\n",
       "      <td>264834</td>\n",
       "      <td>264834</td>\n",
       "      <td>264834</td>\n",
       "      <td>264834</td>\n",
       "      <td>264834</td>\n",
       "      <td>264834</td>\n",
       "    </tr>\n",
       "    <tr>\n",
       "      <th>unique</th>\n",
       "      <td>272</td>\n",
       "      <td>72636</td>\n",
       "      <td>263125</td>\n",
       "      <td>114</td>\n",
       "      <td>114</td>\n",
       "      <td>3</td>\n",
       "      <td>7</td>\n",
       "    </tr>\n",
       "    <tr>\n",
       "      <th>top</th>\n",
       "      <td>226</td>\n",
       "      <td>162039</td>\n",
       "      <td>102237</td>\n",
       "      <td>102</td>\n",
       "      <td>Kettle Mozzarella   Basil   Pesto 175g</td>\n",
       "      <td>g</td>\n",
       "      <td>Sunday</td>\n",
       "    </tr>\n",
       "    <tr>\n",
       "      <th>freq</th>\n",
       "      <td>2020</td>\n",
       "      <td>18</td>\n",
       "      <td>3</td>\n",
       "      <td>3304</td>\n",
       "      <td>3304</td>\n",
       "      <td>255513</td>\n",
       "      <td>38717</td>\n",
       "    </tr>\n",
       "  </tbody>\n",
       "</table>\n",
       "</div>"
      ],
      "text/plain": [
       "       store_nbr card_num  txn_id prod_nbr  \\\n",
       "count     264834   264834  264834   264834   \n",
       "unique       272    72636  263125      114   \n",
       "top          226   162039  102237      102   \n",
       "freq        2020       18       3     3304   \n",
       "\n",
       "                                     prod_name prod_unit weekday  \n",
       "count                                   264834    264834  264834  \n",
       "unique                                     114         3       7  \n",
       "top     Kettle Mozzarella   Basil   Pesto 175g         g  Sunday  \n",
       "freq                                      3304    255513   38717  "
      ]
     },
     "execution_count": 26,
     "metadata": {},
     "output_type": "execute_result"
    }
   ],
   "source": [
    "df.describe(include = object)"
   ]
  },
  {
   "cell_type": "markdown",
   "metadata": {},
   "source": [
    "Noticing the number of unique customers (card_nbr) and transactions (txn_id), we can see that one customer can have multiple transactions. However, one customer should have one transaction on the same date, in the same store at a time. I would like to make sure we don't have any duplicated transaction in any way."
   ]
  },
  {
   "cell_type": "raw",
   "metadata": {},
   "source": [
    "##Remove Duplicates"
   ]
  },
  {
   "cell_type": "code",
   "execution_count": 27,
   "metadata": {},
   "outputs": [
    {
     "name": "stdout",
     "output_type": "stream",
     "text": [
      "There are 264833 unique data rows.\n"
     ]
    }
   ],
   "source": [
    "#Drop duplicates if available\n",
    "df = df.drop_duplicates(ignore_index = True)\n",
    "\n",
    "#Print data length\n",
    "print(f'There are {len(df)} unique data rows.')"
   ]
  },
  {
   "cell_type": "code",
   "execution_count": 28,
   "metadata": {},
   "outputs": [
    {
     "name": "stdout",
     "output_type": "stream",
     "text": [
      "There are 1704 rows that the same information of date, store_number, customer, and transaction id.\n"
     ]
    }
   ],
   "source": [
    "# check how many row that have the same information of  date, store_nbr, card_nbr and txn_id\n",
    "print(f\"There are {df.duplicated(['date', 'store_nbr', 'card_num', 'txn_id']).sum()} \\\n",
    "rows that the same information of date, store_number, customer, and transaction id.\")"
   ]
  },
  {
   "cell_type": "code",
   "execution_count": 29,
   "metadata": {},
   "outputs": [],
   "source": [
    "#Create dataframe including date, store_nbr, card_nbr, txn_id, and prod_nbr that have same txn_id\n",
    "dup_df = df[df.duplicated('txn_id', keep= False)][['date', 'store_nbr', 'card_num', 'txn_id', 'prod_nbr']]\n",
    "\n",
    "count_df = dup_df.groupby(['txn_id']).nunique()"
   ]
  },
  {
   "cell_type": "code",
   "execution_count": 30,
   "metadata": {},
   "outputs": [
    {
     "data": {
      "text/html": [
       "<div>\n",
       "<style scoped>\n",
       "    .dataframe tbody tr th:only-of-type {\n",
       "        vertical-align: middle;\n",
       "    }\n",
       "\n",
       "    .dataframe tbody tr th {\n",
       "        vertical-align: top;\n",
       "    }\n",
       "\n",
       "    .dataframe thead th {\n",
       "        text-align: right;\n",
       "    }\n",
       "</style>\n",
       "<table border=\"1\" class=\"dataframe\">\n",
       "  <thead>\n",
       "    <tr style=\"text-align: right;\">\n",
       "      <th></th>\n",
       "      <th>date</th>\n",
       "      <th>store_nbr</th>\n",
       "      <th>card_num</th>\n",
       "      <th>txn_id</th>\n",
       "      <th>prod_nbr</th>\n",
       "    </tr>\n",
       "  </thead>\n",
       "  <tbody>\n",
       "    <tr>\n",
       "      <th>41</th>\n",
       "      <td>2019-05-20</td>\n",
       "      <td>55</td>\n",
       "      <td>55073</td>\n",
       "      <td>48887</td>\n",
       "      <td>4</td>\n",
       "    </tr>\n",
       "    <tr>\n",
       "      <th>42</th>\n",
       "      <td>2019-05-20</td>\n",
       "      <td>55</td>\n",
       "      <td>55073</td>\n",
       "      <td>48887</td>\n",
       "      <td>113</td>\n",
       "    </tr>\n",
       "    <tr>\n",
       "      <th>376</th>\n",
       "      <td>2019-01-10</td>\n",
       "      <td>7</td>\n",
       "      <td>7364</td>\n",
       "      <td>7739</td>\n",
       "      <td>50</td>\n",
       "    </tr>\n",
       "    <tr>\n",
       "      <th>377</th>\n",
       "      <td>2019-01-10</td>\n",
       "      <td>7</td>\n",
       "      <td>7364</td>\n",
       "      <td>7739</td>\n",
       "      <td>20</td>\n",
       "    </tr>\n",
       "    <tr>\n",
       "      <th>418</th>\n",
       "      <td>2018-10-18</td>\n",
       "      <td>12</td>\n",
       "      <td>12301</td>\n",
       "      <td>10982</td>\n",
       "      <td>50</td>\n",
       "    </tr>\n",
       "  </tbody>\n",
       "</table>\n",
       "</div>"
      ],
      "text/plain": [
       "          date store_nbr card_num txn_id prod_nbr\n",
       "41  2019-05-20        55    55073  48887        4\n",
       "42  2019-05-20        55    55073  48887      113\n",
       "376 2019-01-10         7     7364   7739       50\n",
       "377 2019-01-10         7     7364   7739       20\n",
       "418 2018-10-18        12    12301  10982       50"
      ]
     },
     "execution_count": 30,
     "metadata": {},
     "output_type": "execute_result"
    }
   ],
   "source": [
    "dup_df.head()"
   ]
  },
  {
   "cell_type": "code",
   "execution_count": 31,
   "metadata": {},
   "outputs": [
    {
     "data": {
      "text/html": [
       "<div>\n",
       "<style scoped>\n",
       "    .dataframe tbody tr th:only-of-type {\n",
       "        vertical-align: middle;\n",
       "    }\n",
       "\n",
       "    .dataframe tbody tr th {\n",
       "        vertical-align: top;\n",
       "    }\n",
       "\n",
       "    .dataframe thead th {\n",
       "        text-align: right;\n",
       "    }\n",
       "</style>\n",
       "<table border=\"1\" class=\"dataframe\">\n",
       "  <thead>\n",
       "    <tr style=\"text-align: right;\">\n",
       "      <th></th>\n",
       "      <th>date</th>\n",
       "      <th>store_nbr</th>\n",
       "      <th>card_num</th>\n",
       "      <th>txn_id</th>\n",
       "      <th>prod_nbr</th>\n",
       "    </tr>\n",
       "    <tr>\n",
       "      <th>txn_id</th>\n",
       "      <th></th>\n",
       "      <th></th>\n",
       "      <th></th>\n",
       "      <th></th>\n",
       "      <th></th>\n",
       "    </tr>\n",
       "  </thead>\n",
       "  <tbody>\n",
       "    <tr>\n",
       "      <th>155468</th>\n",
       "      <td>2</td>\n",
       "      <td>1</td>\n",
       "      <td>2</td>\n",
       "      <td>1</td>\n",
       "      <td>2</td>\n",
       "    </tr>\n",
       "    <tr>\n",
       "      <th>155469</th>\n",
       "      <td>2</td>\n",
       "      <td>1</td>\n",
       "      <td>2</td>\n",
       "      <td>1</td>\n",
       "      <td>2</td>\n",
       "    </tr>\n",
       "    <tr>\n",
       "      <th>156002</th>\n",
       "      <td>2</td>\n",
       "      <td>1</td>\n",
       "      <td>1</td>\n",
       "      <td>1</td>\n",
       "      <td>2</td>\n",
       "    </tr>\n",
       "    <tr>\n",
       "      <th>50042</th>\n",
       "      <td>2</td>\n",
       "      <td>1</td>\n",
       "      <td>1</td>\n",
       "      <td>1</td>\n",
       "      <td>2</td>\n",
       "    </tr>\n",
       "  </tbody>\n",
       "</table>\n",
       "</div>"
      ],
      "text/plain": [
       "        date  store_nbr  card_num  txn_id  prod_nbr\n",
       "txn_id                                             \n",
       "155468     2          1         2       1         2\n",
       "155469     2          1         2       1         2\n",
       "156002     2          1         1       1         2\n",
       "50042      2          1         1       1         2"
      ]
     },
     "execution_count": 31,
     "metadata": {},
     "output_type": "execute_result"
    }
   ],
   "source": [
    "#Print out data that have more than one unique value of date, store_nbr, or card_nbr\n",
    "count_df[(count_df['date'] != 1) |\n",
    "         (count_df['store_nbr'] != 1) |\n",
    "         (count_df['card_num'] != 1)]"
   ]
  },
  {
   "cell_type": "markdown",
   "metadata": {},
   "source": [
    "#we got four duplicate transactions, let get more information about that\n"
   ]
  },
  {
   "cell_type": "code",
   "execution_count": 32,
   "metadata": {},
   "outputs": [
    {
     "data": {
      "text/html": [
       "<div>\n",
       "<style scoped>\n",
       "    .dataframe tbody tr th:only-of-type {\n",
       "        vertical-align: middle;\n",
       "    }\n",
       "\n",
       "    .dataframe tbody tr th {\n",
       "        vertical-align: top;\n",
       "    }\n",
       "\n",
       "    .dataframe thead th {\n",
       "        text-align: right;\n",
       "    }\n",
       "</style>\n",
       "<table border=\"1\" class=\"dataframe\">\n",
       "  <thead>\n",
       "    <tr style=\"text-align: right;\">\n",
       "      <th></th>\n",
       "      <th>date</th>\n",
       "      <th>store_nbr</th>\n",
       "      <th>card_num</th>\n",
       "      <th>txn_id</th>\n",
       "      <th>prod_nbr</th>\n",
       "      <th>prod_name</th>\n",
       "      <th>prod_qty</th>\n",
       "      <th>tot_sales</th>\n",
       "      <th>prod_price</th>\n",
       "      <th>prod_size</th>\n",
       "      <th>prod_unit</th>\n",
       "      <th>year</th>\n",
       "      <th>month</th>\n",
       "      <th>weekday</th>\n",
       "    </tr>\n",
       "  </thead>\n",
       "  <tbody>\n",
       "    <tr>\n",
       "      <th>127899</th>\n",
       "      <td>2018-08-13</td>\n",
       "      <td>155</td>\n",
       "      <td>155010</td>\n",
       "      <td>155468</td>\n",
       "      <td>10</td>\n",
       "      <td>RRD SR Slow Rst     Pork Belly 150g</td>\n",
       "      <td>2</td>\n",
       "      <td>5.4</td>\n",
       "      <td>2.7</td>\n",
       "      <td>150</td>\n",
       "      <td>g</td>\n",
       "      <td>2018</td>\n",
       "      <td>8</td>\n",
       "      <td>Monday</td>\n",
       "    </tr>\n",
       "    <tr>\n",
       "      <th>110173</th>\n",
       "      <td>2018-11-16</td>\n",
       "      <td>155</td>\n",
       "      <td>155072</td>\n",
       "      <td>155468</td>\n",
       "      <td>29</td>\n",
       "      <td>French Fries Potato Chips 175g</td>\n",
       "      <td>2</td>\n",
       "      <td>6.0</td>\n",
       "      <td>3.0</td>\n",
       "      <td>175</td>\n",
       "      <td>g</td>\n",
       "      <td>2018</td>\n",
       "      <td>11</td>\n",
       "      <td>Friday</td>\n",
       "    </tr>\n",
       "    <tr>\n",
       "      <th>110174</th>\n",
       "      <td>2018-11-30</td>\n",
       "      <td>155</td>\n",
       "      <td>155072</td>\n",
       "      <td>155469</td>\n",
       "      <td>110</td>\n",
       "      <td>WW Original Corn    Chips 200g</td>\n",
       "      <td>2</td>\n",
       "      <td>3.8</td>\n",
       "      <td>1.9</td>\n",
       "      <td>200</td>\n",
       "      <td>g</td>\n",
       "      <td>2018</td>\n",
       "      <td>11</td>\n",
       "      <td>Friday</td>\n",
       "    </tr>\n",
       "    <tr>\n",
       "      <th>219242</th>\n",
       "      <td>2018-12-16</td>\n",
       "      <td>56</td>\n",
       "      <td>56003</td>\n",
       "      <td>50042</td>\n",
       "      <td>53</td>\n",
       "      <td>RRD Sweet Chilli    Sour Cream 165g</td>\n",
       "      <td>2</td>\n",
       "      <td>6.0</td>\n",
       "      <td>3.0</td>\n",
       "      <td>165</td>\n",
       "      <td>g</td>\n",
       "      <td>2018</td>\n",
       "      <td>12</td>\n",
       "      <td>Sunday</td>\n",
       "    </tr>\n",
       "    <tr>\n",
       "      <th>219243</th>\n",
       "      <td>2018-12-17</td>\n",
       "      <td>56</td>\n",
       "      <td>56003</td>\n",
       "      <td>50042</td>\n",
       "      <td>96</td>\n",
       "      <td>WW Original Stacked Chips 160g</td>\n",
       "      <td>2</td>\n",
       "      <td>3.8</td>\n",
       "      <td>1.9</td>\n",
       "      <td>160</td>\n",
       "      <td>g</td>\n",
       "      <td>2018</td>\n",
       "      <td>12</td>\n",
       "      <td>Monday</td>\n",
       "    </tr>\n",
       "    <tr>\n",
       "      <th>45913</th>\n",
       "      <td>2019-02-09</td>\n",
       "      <td>155</td>\n",
       "      <td>155153</td>\n",
       "      <td>156002</td>\n",
       "      <td>25</td>\n",
       "      <td>Pringles SourCream  Onion 134g</td>\n",
       "      <td>2</td>\n",
       "      <td>7.4</td>\n",
       "      <td>3.7</td>\n",
       "      <td>134</td>\n",
       "      <td>g</td>\n",
       "      <td>2019</td>\n",
       "      <td>2</td>\n",
       "      <td>Saturday</td>\n",
       "    </tr>\n",
       "    <tr>\n",
       "      <th>45912</th>\n",
       "      <td>2019-02-23</td>\n",
       "      <td>155</td>\n",
       "      <td>155153</td>\n",
       "      <td>156002</td>\n",
       "      <td>14</td>\n",
       "      <td>Smiths Crnkle Chip  Orgnl Big Bag 380g</td>\n",
       "      <td>2</td>\n",
       "      <td>11.8</td>\n",
       "      <td>5.9</td>\n",
       "      <td>380</td>\n",
       "      <td>g</td>\n",
       "      <td>2019</td>\n",
       "      <td>2</td>\n",
       "      <td>Saturday</td>\n",
       "    </tr>\n",
       "    <tr>\n",
       "      <th>127896</th>\n",
       "      <td>2019-06-05</td>\n",
       "      <td>155</td>\n",
       "      <td>155010</td>\n",
       "      <td>155469</td>\n",
       "      <td>77</td>\n",
       "      <td>Doritos Corn Chips  Nacho Cheese 170g</td>\n",
       "      <td>2</td>\n",
       "      <td>8.8</td>\n",
       "      <td>4.4</td>\n",
       "      <td>170</td>\n",
       "      <td>g</td>\n",
       "      <td>2019</td>\n",
       "      <td>6</td>\n",
       "      <td>Wednesday</td>\n",
       "    </tr>\n",
       "  </tbody>\n",
       "</table>\n",
       "</div>"
      ],
      "text/plain": [
       "             date store_nbr card_num  txn_id prod_nbr  \\\n",
       "127899 2018-08-13       155   155010  155468       10   \n",
       "110173 2018-11-16       155   155072  155468       29   \n",
       "110174 2018-11-30       155   155072  155469      110   \n",
       "219242 2018-12-16        56    56003   50042       53   \n",
       "219243 2018-12-17        56    56003   50042       96   \n",
       "45913  2019-02-09       155   155153  156002       25   \n",
       "45912  2019-02-23       155   155153  156002       14   \n",
       "127896 2019-06-05       155   155010  155469       77   \n",
       "\n",
       "                                     prod_name  prod_qty  tot_sales  \\\n",
       "127899     RRD SR Slow Rst     Pork Belly 150g         2        5.4   \n",
       "110173          French Fries Potato Chips 175g         2        6.0   \n",
       "110174          WW Original Corn    Chips 200g         2        3.8   \n",
       "219242     RRD Sweet Chilli    Sour Cream 165g         2        6.0   \n",
       "219243          WW Original Stacked Chips 160g         2        3.8   \n",
       "45913           Pringles SourCream  Onion 134g         2        7.4   \n",
       "45912   Smiths Crnkle Chip  Orgnl Big Bag 380g         2       11.8   \n",
       "127896   Doritos Corn Chips  Nacho Cheese 170g         2        8.8   \n",
       "\n",
       "        prod_price  prod_size prod_unit  year  month    weekday  \n",
       "127899         2.7        150         g  2018      8     Monday  \n",
       "110173         3.0        175         g  2018     11     Friday  \n",
       "110174         1.9        200         g  2018     11     Friday  \n",
       "219242         3.0        165         g  2018     12     Sunday  \n",
       "219243         1.9        160         g  2018     12     Monday  \n",
       "45913          3.7        134         g  2019      2   Saturday  \n",
       "45912          5.9        380         g  2019      2   Saturday  \n",
       "127896         4.4        170         g  2019      6  Wednesday  "
      ]
     },
     "execution_count": 32,
     "metadata": {},
     "output_type": "execute_result"
    }
   ],
   "source": [
    "# print the duplicate transactions.\n",
    "df[(df['txn_id'] == \"155468\")|(df['txn_id'] == \"155469\")|\n",
    "  (df['txn_id'] == \"156002\")|(df['txn_id'] == \"50042\")].sort_values([\"date\", \"card_num\"])"
   ]
  },
  {
   "cell_type": "code",
   "execution_count": 33,
   "metadata": {},
   "outputs": [
    {
     "data": {
      "text/plain": [
       "False"
      ]
     },
     "execution_count": 33,
     "metadata": {},
     "output_type": "execute_result"
    }
   ],
   "source": [
    "#Check if there're duplicated transactions and product id\n",
    "(df[\"prod_nbr\"] ==1 ).any()\n"
   ]
  },
  {
   "cell_type": "code",
   "execution_count": 34,
   "metadata": {},
   "outputs": [],
   "source": [
    "# remove the duplicate transactions.\n",
    "df=df[(df['txn_id'] != \"155468\")&(df['txn_id'] != \"155469\")&\n",
    "  (df['txn_id'] != \"156002\")&(df['txn_id'] != \"50042\")]"
   ]
  },
  {
   "cell_type": "markdown",
   "metadata": {},
   "source": [
    "#Extract information from product name"
   ]
  },
  {
   "cell_type": "code",
   "execution_count": 35,
   "metadata": {},
   "outputs": [
    {
     "data": {
      "text/html": [
       "<div>\n",
       "<style scoped>\n",
       "    .dataframe tbody tr th:only-of-type {\n",
       "        vertical-align: middle;\n",
       "    }\n",
       "\n",
       "    .dataframe tbody tr th {\n",
       "        vertical-align: top;\n",
       "    }\n",
       "\n",
       "    .dataframe thead th {\n",
       "        text-align: right;\n",
       "    }\n",
       "</style>\n",
       "<table border=\"1\" class=\"dataframe\">\n",
       "  <thead>\n",
       "    <tr style=\"text-align: right;\">\n",
       "      <th></th>\n",
       "      <th>date</th>\n",
       "      <th>store_nbr</th>\n",
       "      <th>card_num</th>\n",
       "      <th>txn_id</th>\n",
       "      <th>prod_nbr</th>\n",
       "      <th>prod_name</th>\n",
       "      <th>prod_qty</th>\n",
       "      <th>tot_sales</th>\n",
       "      <th>prod_price</th>\n",
       "      <th>prod_size</th>\n",
       "      <th>prod_unit</th>\n",
       "      <th>year</th>\n",
       "      <th>month</th>\n",
       "      <th>weekday</th>\n",
       "    </tr>\n",
       "  </thead>\n",
       "  <tbody>\n",
       "    <tr>\n",
       "      <th>0</th>\n",
       "      <td>2018-10-17</td>\n",
       "      <td>1</td>\n",
       "      <td>1000</td>\n",
       "      <td>1</td>\n",
       "      <td>5</td>\n",
       "      <td>Natural Chip        Compny SeaSalt175g</td>\n",
       "      <td>2</td>\n",
       "      <td>6.0</td>\n",
       "      <td>3.00</td>\n",
       "      <td>175</td>\n",
       "      <td>g</td>\n",
       "      <td>2018</td>\n",
       "      <td>10</td>\n",
       "      <td>Wednesday</td>\n",
       "    </tr>\n",
       "    <tr>\n",
       "      <th>1</th>\n",
       "      <td>2019-05-14</td>\n",
       "      <td>1</td>\n",
       "      <td>1307</td>\n",
       "      <td>348</td>\n",
       "      <td>66</td>\n",
       "      <td>CCs Nacho Cheese    175g</td>\n",
       "      <td>3</td>\n",
       "      <td>6.3</td>\n",
       "      <td>2.10</td>\n",
       "      <td>175</td>\n",
       "      <td>g</td>\n",
       "      <td>2019</td>\n",
       "      <td>5</td>\n",
       "      <td>Tuesday</td>\n",
       "    </tr>\n",
       "    <tr>\n",
       "      <th>2</th>\n",
       "      <td>2019-05-20</td>\n",
       "      <td>1</td>\n",
       "      <td>1343</td>\n",
       "      <td>383</td>\n",
       "      <td>61</td>\n",
       "      <td>Smiths Crinkle Cut  Chips Chicken 170g</td>\n",
       "      <td>2</td>\n",
       "      <td>2.9</td>\n",
       "      <td>1.45</td>\n",
       "      <td>170</td>\n",
       "      <td>g</td>\n",
       "      <td>2019</td>\n",
       "      <td>5</td>\n",
       "      <td>Monday</td>\n",
       "    </tr>\n",
       "    <tr>\n",
       "      <th>3</th>\n",
       "      <td>2018-08-17</td>\n",
       "      <td>2</td>\n",
       "      <td>2373</td>\n",
       "      <td>974</td>\n",
       "      <td>69</td>\n",
       "      <td>Smiths Chip Thinly  S Cream Onion 175g</td>\n",
       "      <td>5</td>\n",
       "      <td>15.0</td>\n",
       "      <td>3.00</td>\n",
       "      <td>175</td>\n",
       "      <td>g</td>\n",
       "      <td>2018</td>\n",
       "      <td>8</td>\n",
       "      <td>Friday</td>\n",
       "    </tr>\n",
       "    <tr>\n",
       "      <th>4</th>\n",
       "      <td>2018-08-18</td>\n",
       "      <td>2</td>\n",
       "      <td>2426</td>\n",
       "      <td>1038</td>\n",
       "      <td>108</td>\n",
       "      <td>Kettle Tortilla ChpsHny Jlpno Chili 150g</td>\n",
       "      <td>3</td>\n",
       "      <td>13.8</td>\n",
       "      <td>4.60</td>\n",
       "      <td>150</td>\n",
       "      <td>g</td>\n",
       "      <td>2018</td>\n",
       "      <td>8</td>\n",
       "      <td>Saturday</td>\n",
       "    </tr>\n",
       "  </tbody>\n",
       "</table>\n",
       "</div>"
      ],
      "text/plain": [
       "        date store_nbr card_num txn_id prod_nbr  \\\n",
       "0 2018-10-17         1     1000      1        5   \n",
       "1 2019-05-14         1     1307    348       66   \n",
       "2 2019-05-20         1     1343    383       61   \n",
       "3 2018-08-17         2     2373    974       69   \n",
       "4 2018-08-18         2     2426   1038      108   \n",
       "\n",
       "                                  prod_name  prod_qty  tot_sales  prod_price  \\\n",
       "0    Natural Chip        Compny SeaSalt175g         2        6.0        3.00   \n",
       "1                  CCs Nacho Cheese    175g         3        6.3        2.10   \n",
       "2    Smiths Crinkle Cut  Chips Chicken 170g         2        2.9        1.45   \n",
       "3    Smiths Chip Thinly  S Cream Onion 175g         5       15.0        3.00   \n",
       "4  Kettle Tortilla ChpsHny Jlpno Chili 150g         3       13.8        4.60   \n",
       "\n",
       "   prod_size prod_unit  year  month    weekday  \n",
       "0        175         g  2018     10  Wednesday  \n",
       "1        175         g  2019      5    Tuesday  \n",
       "2        170         g  2019      5     Monday  \n",
       "3        175         g  2018      8     Friday  \n",
       "4        150         g  2018      8   Saturday  "
      ]
     },
     "execution_count": 35,
     "metadata": {},
     "output_type": "execute_result"
    }
   ],
   "source": [
    "df.head()"
   ]
  },
  {
   "cell_type": "code",
   "execution_count": 36,
   "metadata": {},
   "outputs": [
    {
     "data": {
      "text/plain": [
       "count    264825.000000\n",
       "mean        182.425258\n",
       "std          64.324955\n",
       "min          70.000000\n",
       "25%         150.000000\n",
       "50%         170.000000\n",
       "75%         175.000000\n",
       "max         380.000000\n",
       "Name: prod_size, dtype: float64"
      ]
     },
     "execution_count": 36,
     "metadata": {},
     "output_type": "execute_result"
    }
   ],
   "source": [
    "#Check statistic of size\n",
    "df['prod_size'].describe()"
   ]
  },
  {
   "cell_type": "code",
   "execution_count": 37,
   "metadata": {},
   "outputs": [
    {
     "name": "stdout",
     "output_type": "stream",
     "text": [
      "Number of unique package sizes: 21\n"
     ]
    }
   ],
   "source": [
    "print(f\"Number of unique package sizes: {df['prod_size'].nunique()}\")"
   ]
  },
  {
   "cell_type": "code",
   "execution_count": 38,
   "metadata": {},
   "outputs": [
    {
     "name": "stdout",
     "output_type": "stream",
     "text": [
      "Unique values of size units:\n",
      "g                     255504\n",
      "G                       6064\n",
      "g Swt Pot Sea Salt      3257\n",
      "Name: prod_unit, dtype: int64\n"
     ]
    }
   ],
   "source": [
    "print(f\"Unique values of size units:\\n{df['prod_unit'].value_counts()}\")"
   ]
  },
  {
   "cell_type": "markdown",
   "metadata": {},
   "source": [
    "Swt pot sea salt is  not unit."
   ]
  },
  {
   "cell_type": "code",
   "execution_count": 39,
   "metadata": {},
   "outputs": [
    {
     "data": {
      "text/plain": [
       "39561     Kettle 135g Swt Pot Sea Salt\n",
       "210896    Kettle 135g Swt Pot Sea Salt\n",
       "123163    Kettle 135g Swt Pot Sea Salt\n",
       "148473    Kettle 135g Swt Pot Sea Salt\n",
       "50842     Kettle 135g Swt Pot Sea Salt\n",
       "Name: prod_name, dtype: object"
      ]
     },
     "execution_count": 39,
     "metadata": {},
     "output_type": "execute_result"
    }
   ],
   "source": [
    "df[df[\"prod_unit\"] == \"g Swt Pot Sea Salt\"][\"prod_name\"].sample(5)"
   ]
  },
  {
   "cell_type": "markdown",
   "metadata": {},
   "source": [
    "All product have same unit and same size so we don't need the prod_unit columns."
   ]
  },
  {
   "cell_type": "code",
   "execution_count": 40,
   "metadata": {},
   "outputs": [],
   "source": [
    "#df = df.drop(\"prod_unit\", axis =1)\n",
    "\n",
    "#Remove package size and unit out of the product name\n",
    "df['prod_name'] = df['prod_name'].str.replace(r'\\d+.', '').str.rstrip(' ')"
   ]
  },
  {
   "cell_type": "code",
   "execution_count": 41,
   "metadata": {},
   "outputs": [
    {
     "data": {
      "text/html": [
       "<div>\n",
       "<style scoped>\n",
       "    .dataframe tbody tr th:only-of-type {\n",
       "        vertical-align: middle;\n",
       "    }\n",
       "\n",
       "    .dataframe tbody tr th {\n",
       "        vertical-align: top;\n",
       "    }\n",
       "\n",
       "    .dataframe thead th {\n",
       "        text-align: right;\n",
       "    }\n",
       "</style>\n",
       "<table border=\"1\" class=\"dataframe\">\n",
       "  <thead>\n",
       "    <tr style=\"text-align: right;\">\n",
       "      <th></th>\n",
       "      <th>date</th>\n",
       "      <th>store_nbr</th>\n",
       "      <th>card_num</th>\n",
       "      <th>txn_id</th>\n",
       "      <th>prod_nbr</th>\n",
       "      <th>prod_name</th>\n",
       "      <th>prod_qty</th>\n",
       "      <th>tot_sales</th>\n",
       "      <th>prod_price</th>\n",
       "      <th>prod_size</th>\n",
       "      <th>prod_unit</th>\n",
       "      <th>year</th>\n",
       "      <th>month</th>\n",
       "      <th>weekday</th>\n",
       "    </tr>\n",
       "  </thead>\n",
       "  <tbody>\n",
       "    <tr>\n",
       "      <th>0</th>\n",
       "      <td>2018-10-17</td>\n",
       "      <td>1</td>\n",
       "      <td>1000</td>\n",
       "      <td>1</td>\n",
       "      <td>5</td>\n",
       "      <td>Natural Chip        Compny SeaSalt</td>\n",
       "      <td>2</td>\n",
       "      <td>6.0</td>\n",
       "      <td>3.00</td>\n",
       "      <td>175</td>\n",
       "      <td>g</td>\n",
       "      <td>2018</td>\n",
       "      <td>10</td>\n",
       "      <td>Wednesday</td>\n",
       "    </tr>\n",
       "    <tr>\n",
       "      <th>1</th>\n",
       "      <td>2019-05-14</td>\n",
       "      <td>1</td>\n",
       "      <td>1307</td>\n",
       "      <td>348</td>\n",
       "      <td>66</td>\n",
       "      <td>CCs Nacho Cheese</td>\n",
       "      <td>3</td>\n",
       "      <td>6.3</td>\n",
       "      <td>2.10</td>\n",
       "      <td>175</td>\n",
       "      <td>g</td>\n",
       "      <td>2019</td>\n",
       "      <td>5</td>\n",
       "      <td>Tuesday</td>\n",
       "    </tr>\n",
       "    <tr>\n",
       "      <th>2</th>\n",
       "      <td>2019-05-20</td>\n",
       "      <td>1</td>\n",
       "      <td>1343</td>\n",
       "      <td>383</td>\n",
       "      <td>61</td>\n",
       "      <td>Smiths Crinkle Cut  Chips Chicken</td>\n",
       "      <td>2</td>\n",
       "      <td>2.9</td>\n",
       "      <td>1.45</td>\n",
       "      <td>170</td>\n",
       "      <td>g</td>\n",
       "      <td>2019</td>\n",
       "      <td>5</td>\n",
       "      <td>Monday</td>\n",
       "    </tr>\n",
       "    <tr>\n",
       "      <th>3</th>\n",
       "      <td>2018-08-17</td>\n",
       "      <td>2</td>\n",
       "      <td>2373</td>\n",
       "      <td>974</td>\n",
       "      <td>69</td>\n",
       "      <td>Smiths Chip Thinly  S Cream Onion</td>\n",
       "      <td>5</td>\n",
       "      <td>15.0</td>\n",
       "      <td>3.00</td>\n",
       "      <td>175</td>\n",
       "      <td>g</td>\n",
       "      <td>2018</td>\n",
       "      <td>8</td>\n",
       "      <td>Friday</td>\n",
       "    </tr>\n",
       "    <tr>\n",
       "      <th>4</th>\n",
       "      <td>2018-08-18</td>\n",
       "      <td>2</td>\n",
       "      <td>2426</td>\n",
       "      <td>1038</td>\n",
       "      <td>108</td>\n",
       "      <td>Kettle Tortilla ChpsHny Jlpno Chili</td>\n",
       "      <td>3</td>\n",
       "      <td>13.8</td>\n",
       "      <td>4.60</td>\n",
       "      <td>150</td>\n",
       "      <td>g</td>\n",
       "      <td>2018</td>\n",
       "      <td>8</td>\n",
       "      <td>Saturday</td>\n",
       "    </tr>\n",
       "  </tbody>\n",
       "</table>\n",
       "</div>"
      ],
      "text/plain": [
       "        date store_nbr card_num txn_id prod_nbr  \\\n",
       "0 2018-10-17         1     1000      1        5   \n",
       "1 2019-05-14         1     1307    348       66   \n",
       "2 2019-05-20         1     1343    383       61   \n",
       "3 2018-08-17         2     2373    974       69   \n",
       "4 2018-08-18         2     2426   1038      108   \n",
       "\n",
       "                             prod_name  prod_qty  tot_sales  prod_price  \\\n",
       "0   Natural Chip        Compny SeaSalt         2        6.0        3.00   \n",
       "1                     CCs Nacho Cheese         3        6.3        2.10   \n",
       "2    Smiths Crinkle Cut  Chips Chicken         2        2.9        1.45   \n",
       "3    Smiths Chip Thinly  S Cream Onion         5       15.0        3.00   \n",
       "4  Kettle Tortilla ChpsHny Jlpno Chili         3       13.8        4.60   \n",
       "\n",
       "   prod_size prod_unit  year  month    weekday  \n",
       "0        175         g  2018     10  Wednesday  \n",
       "1        175         g  2019      5    Tuesday  \n",
       "2        170         g  2019      5     Monday  \n",
       "3        175         g  2018      8     Friday  \n",
       "4        150         g  2018      8   Saturday  "
      ]
     },
     "execution_count": 41,
     "metadata": {},
     "output_type": "execute_result"
    }
   ],
   "source": [
    "df.head()"
   ]
  },
  {
   "cell_type": "markdown",
   "metadata": {},
   "source": [
    "Product brand\n",
    "\n",
    "Extract brand name "
   ]
  },
  {
   "cell_type": "code",
   "execution_count": 42,
   "metadata": {},
   "outputs": [
    {
     "name": "stdout",
     "output_type": "stream",
     "text": [
      "Unique Product name\n"
     ]
    },
    {
     "data": {
      "text/plain": [
       "['Burger Rings',\n",
       " 'CCs Nacho Cheese',\n",
       " 'CCs Original',\n",
       " 'CCs Tasty Cheese',\n",
       " 'Cheetos Chs   Bacon Balls',\n",
       " 'Cheetos Puffs',\n",
       " 'Cheezels Cheese',\n",
       " 'Cheezels Cheese Box',\n",
       " 'Cobs Popd Sea Salt  Chips',\n",
       " 'Cobs Popd Sour Crm   Chives Chips',\n",
       " 'Cobs Popd Swt Chlli  Sr Cream Chips',\n",
       " 'Dorito Corn Chp     Supreme',\n",
       " 'Doritos Cheese      Supreme',\n",
       " 'Doritos Corn Chip Mexican Jalapeno',\n",
       " 'Doritos Corn Chip Southern Chicken',\n",
       " 'Doritos Corn Chips  Cheese Supreme',\n",
       " 'Doritos Corn Chips  Nacho Cheese',\n",
       " 'Doritos Corn Chips  Original',\n",
       " 'Doritos Mexicana',\n",
       " 'Doritos Salsa       Medium',\n",
       " 'Doritos Salsa Mild',\n",
       " 'French Fries Potato Chips',\n",
       " 'Grain Waves         Sweet Chilli',\n",
       " 'Grain Waves Sour    Cream Chives',\n",
       " 'GrnWves Plus Btroot   Chilli Jam',\n",
       " 'Infuzions BBQ Rib   Prawn Crackers',\n",
       " 'Infuzions Mango     Chutny Papadums',\n",
       " 'Infuzions SourCream Herbs Veg Strws',\n",
       " 'Infuzions Thai SweetChili PotatoMix',\n",
       " 'Infzns Crn Crnchers Tangy Gcamole',\n",
       " 'Kettle  Swt Pot Sea Salt',\n",
       " 'Kettle Chilli',\n",
       " 'Kettle Honey Soy    Chicken',\n",
       " 'Kettle Mozzarella   Basil   Pesto',\n",
       " 'Kettle Original',\n",
       " 'Kettle Sea Salt     And Vinegar',\n",
       " 'Kettle Sensations   BBQ Maple',\n",
       " 'Kettle Sensations   Camembert   Fig',\n",
       " 'Kettle Sensations   Siracha Lime',\n",
       " 'Kettle Sweet Chilli And Sour Cream',\n",
       " 'Kettle Tortilla ChpsBtroot Ricotta',\n",
       " 'Kettle Tortilla ChpsFeta Garlic',\n",
       " 'Kettle Tortilla ChpsHny Jlpno Chili',\n",
       " 'NCC Sour Cream      Garden Chives',\n",
       " 'Natural Chip        Compny SeaSalt',\n",
       " 'Natural Chip Co     Tmato Hrb Spce',\n",
       " 'Natural ChipCo      Hony Soy Chckn',\n",
       " 'Natural ChipCo Sea  Salt   Vinegr',\n",
       " 'Old El Paso Salsa   Dip Chnky Tom Ht',\n",
       " 'Old El Paso Salsa   Dip Tomato Med',\n",
       " 'Old El Paso Salsa   Dip Tomato Mild',\n",
       " 'Pringles Barbeque',\n",
       " 'Pringles Chicken    Salt Crips',\n",
       " 'Pringles Mystery    Flavour',\n",
       " 'Pringles Original   Crisps',\n",
       " 'Pringles Slt Vingar',\n",
       " 'Pringles SourCream  Onion',\n",
       " 'Pringles Sthrn FriedChicken',\n",
       " 'Pringles Sweet Spcy BBQ',\n",
       " 'RRD Chilli          Coconut',\n",
       " 'RRD Honey Soy       Chicken',\n",
       " 'RRD Lime   Pepper',\n",
       " 'RRD Pc Sea Salt',\n",
       " 'RRD SR Slow Rst     Pork Belly',\n",
       " 'RRD Salt   Vinegar',\n",
       " 'RRD Steak           Chimuchurri',\n",
       " 'RRD Sweet Chilli    Sour Cream',\n",
       " 'Red Rock Deli Chikn Garlic Aioli',\n",
       " 'Red Rock Deli SR    Salsa   Mzzrlla',\n",
       " 'Red Rock Deli Sp    Salt   Truffle',\n",
       " 'Red Rock Deli Thai  Chilli Lime',\n",
       " 'Smith Crinkle Cut   Bolognese',\n",
       " 'Smith Crinkle Cut   Mac N Cheese',\n",
       " 'Smiths Chip Thinly  Cut Original',\n",
       " 'Smiths Chip Thinly  CutSalt Vinegr',\n",
       " 'Smiths Chip Thinly  S Cream Onion',\n",
       " 'Smiths Crinkle      Original',\n",
       " 'Smiths Crinkle Chips Salt   Vinegar',\n",
       " 'Smiths Crinkle Cut  Chips Barbecue',\n",
       " 'Smiths Crinkle Cut  Chips Chicken',\n",
       " 'Smiths Crinkle Cut  Chips Chs Onion',\n",
       " 'Smiths Crinkle Cut  Chips Original',\n",
       " 'Smiths Crinkle Cut  French OnionDip',\n",
       " 'Smiths Crinkle Cut  Salt   Vinegar',\n",
       " 'Smiths Crinkle Cut  Snag Sauce',\n",
       " 'Smiths Crinkle Cut  Tomato Salsa',\n",
       " 'Smiths Crnkle Chip  Orgnl Big Bag',\n",
       " 'Smiths Thinly       Swt Chli S Cream',\n",
       " 'Smiths Thinly Cut   Roast Chicken',\n",
       " 'Snbts Whlgrn Crisps Cheddr Mstrd',\n",
       " 'Sunbites Whlegrn    Crisps Frch Onin',\n",
       " 'Thins Chips         Originl saltd',\n",
       " 'Thins Chips Light   Tangy',\n",
       " 'Thins Chips Salt    Vinegar',\n",
       " 'Thins Chips Seasonedchicken',\n",
       " 'Thins Potato Chips  Hot   Spicy',\n",
       " 'Tostitos Lightly    Salted',\n",
       " 'Tostitos Smoked     Chipotle',\n",
       " 'Tostitos Splash Of  Lime',\n",
       " 'Twisties Cheese',\n",
       " 'Twisties Cheese     Burger',\n",
       " 'Twisties Chicken',\n",
       " 'Tyrrells Crisps     Ched   Chives',\n",
       " 'Tyrrells Crisps     Lightly Salted',\n",
       " 'WW Crinkle Cut      Chicken',\n",
       " 'WW Crinkle Cut      Original',\n",
       " 'WW D Style Chip     Sea Salt',\n",
       " 'WW Original Corn    Chips',\n",
       " 'WW Original Stacked Chips',\n",
       " 'WW Sour Cream  OnionStacked Chips',\n",
       " 'WW Supreme Cheese   Corn Chips',\n",
       " 'Woolworths Cheese   Rings',\n",
       " 'Woolworths Medium   Salsa',\n",
       " 'Woolworths Mild     Salsa']"
      ]
     },
     "execution_count": 42,
     "metadata": {},
     "output_type": "execute_result"
    }
   ],
   "source": [
    "print(\"Unique Product name\")\n",
    "np.sort(df[\"prod_name\"].unique()).tolist()"
   ]
  },
  {
   "cell_type": "markdown",
   "metadata": {},
   "source": [
    "We can easily recognize a brand name of a product by the first few words of a product name. Now, we can create a dictionary of brand names as values and the first words of product names as keys."
   ]
  },
  {
   "cell_type": "markdown",
   "metadata": {},
   "source": [
    "#Create brand name dictionary\n",
    "\n",
    "brand_dict = {'Burger':'Burger Rings',\n",
    " 'CCs':'CCs',\n",
    " \"Cheetos\":'Cheetos',\n",
    " 'Cobs':'Cobs',\n",
    "' Dorito':'Dorito',\n",
    " 'Doritos':'Doritos',\n",
    " 'French':'French',\n",
    " 'Grain':'Grain Waves',\n",
    " 'GrnWves':'GrnWves',\n",
    " 'Infuzions':'Infuzions',\n",
    " 'Infzns':'Infzns',\n",
    " 'Kettle':'Kettle',\n",
    " 'NCC':'NCC',\n",
    " 'Natural':'Natural Chip',\n",
    " 'Old':'Old El Paso',\n",
    " 'Pringles':'Pringles',\n",
    " 'RRD':'RRD',\n",
    " 'Red':'Red Rock Deli',\n",
    " 'Smith':'Smith', \n",
    " 'Smiths':'Smiths',\n",
    " 'Snbts':'Snbts',\n",
    " 'Sunbites':'Sunbites',\n",
    " 'Thins':'Thins',\n",
    " 'Tostitos':'Tostitos',\n",
    " 'Twisties':'Twisties',\n",
    " 'Tyrrells':'Tyrrells',\n",
    " 'WW':'WW',\n",
    " 'Woolworths':'Woolworths'}"
   ]
  },
  {
   "cell_type": "code",
   "execution_count": 43,
   "metadata": {},
   "outputs": [],
   "source": [
    "#Create brand name dictionary\n",
    "brand_dict = {'Burger':'Burger Rings', 'CCs':'CCs', 'Cheetos':'Cheetos',\n",
    "              'Cheezels':'Cheezels','Cobs':'Cobs', 'Dorito':'Doritos', \n",
    "              'Doritos':'Doritos', 'French':'French Fries','Infuzions':'Infuzions',\n",
    "              'Infzns':'Infuzions', 'Kettle':'Kettle', 'Natural':'Natural Chip Co',\n",
    "              'NCC':'Natural Chip Co', 'Old':'Old El Paso', 'Pringles':'Pringles', \n",
    "              'RRD':'Red Rock Deli','Red':'Red Rock Deli', 'Smith':'Smiths', \n",
    "              'Smiths':'Smiths','Grain':'Sunbites', 'GrnWves':'Sunbites',\n",
    "              'Snbts':'Sunbites', 'Sunbites':'Sunbites', 'Thins':'Thins',\n",
    "              'Tostitos':'Tostitos', 'Twisties':'Twisties', 'Tyrrells':'Tyrrells', \n",
    "              'Woolworths':'Woolworths', 'WW':'Woolworths'}"
   ]
  },
  {
   "cell_type": "markdown",
   "metadata": {},
   "source": [
    "Next, create name column and adjust the prod_name column."
   ]
  },
  {
   "cell_type": "code",
   "execution_count": 44,
   "metadata": {},
   "outputs": [],
   "source": [
    "# create brand name.\n",
    "df['brand'] = df['prod_name'].astype(str).str.extract(r'(^\\w+)')\n",
    "df['brand'] = df['brand'].map(brand_dict)"
   ]
  },
  {
   "cell_type": "code",
   "execution_count": 45,
   "metadata": {},
   "outputs": [
    {
     "data": {
      "text/html": [
       "<div>\n",
       "<style scoped>\n",
       "    .dataframe tbody tr th:only-of-type {\n",
       "        vertical-align: middle;\n",
       "    }\n",
       "\n",
       "    .dataframe tbody tr th {\n",
       "        vertical-align: top;\n",
       "    }\n",
       "\n",
       "    .dataframe thead th {\n",
       "        text-align: right;\n",
       "    }\n",
       "</style>\n",
       "<table border=\"1\" class=\"dataframe\">\n",
       "  <thead>\n",
       "    <tr style=\"text-align: right;\">\n",
       "      <th></th>\n",
       "      <th>date</th>\n",
       "      <th>store_nbr</th>\n",
       "      <th>card_num</th>\n",
       "      <th>txn_id</th>\n",
       "      <th>prod_nbr</th>\n",
       "      <th>prod_name</th>\n",
       "      <th>prod_qty</th>\n",
       "      <th>tot_sales</th>\n",
       "      <th>prod_price</th>\n",
       "      <th>prod_size</th>\n",
       "      <th>prod_unit</th>\n",
       "      <th>year</th>\n",
       "      <th>month</th>\n",
       "      <th>weekday</th>\n",
       "      <th>brand</th>\n",
       "    </tr>\n",
       "  </thead>\n",
       "  <tbody>\n",
       "    <tr>\n",
       "      <th>0</th>\n",
       "      <td>2018-10-17</td>\n",
       "      <td>1</td>\n",
       "      <td>1000</td>\n",
       "      <td>1</td>\n",
       "      <td>5</td>\n",
       "      <td>Natural Chip        Compny SeaSalt</td>\n",
       "      <td>2</td>\n",
       "      <td>6.0</td>\n",
       "      <td>3.00</td>\n",
       "      <td>175</td>\n",
       "      <td>g</td>\n",
       "      <td>2018</td>\n",
       "      <td>10</td>\n",
       "      <td>Wednesday</td>\n",
       "      <td>Natural Chip Co</td>\n",
       "    </tr>\n",
       "    <tr>\n",
       "      <th>1</th>\n",
       "      <td>2019-05-14</td>\n",
       "      <td>1</td>\n",
       "      <td>1307</td>\n",
       "      <td>348</td>\n",
       "      <td>66</td>\n",
       "      <td>CCs Nacho Cheese</td>\n",
       "      <td>3</td>\n",
       "      <td>6.3</td>\n",
       "      <td>2.10</td>\n",
       "      <td>175</td>\n",
       "      <td>g</td>\n",
       "      <td>2019</td>\n",
       "      <td>5</td>\n",
       "      <td>Tuesday</td>\n",
       "      <td>CCs</td>\n",
       "    </tr>\n",
       "    <tr>\n",
       "      <th>2</th>\n",
       "      <td>2019-05-20</td>\n",
       "      <td>1</td>\n",
       "      <td>1343</td>\n",
       "      <td>383</td>\n",
       "      <td>61</td>\n",
       "      <td>Smiths Crinkle Cut  Chips Chicken</td>\n",
       "      <td>2</td>\n",
       "      <td>2.9</td>\n",
       "      <td>1.45</td>\n",
       "      <td>170</td>\n",
       "      <td>g</td>\n",
       "      <td>2019</td>\n",
       "      <td>5</td>\n",
       "      <td>Monday</td>\n",
       "      <td>Smiths</td>\n",
       "    </tr>\n",
       "    <tr>\n",
       "      <th>3</th>\n",
       "      <td>2018-08-17</td>\n",
       "      <td>2</td>\n",
       "      <td>2373</td>\n",
       "      <td>974</td>\n",
       "      <td>69</td>\n",
       "      <td>Smiths Chip Thinly  S Cream Onion</td>\n",
       "      <td>5</td>\n",
       "      <td>15.0</td>\n",
       "      <td>3.00</td>\n",
       "      <td>175</td>\n",
       "      <td>g</td>\n",
       "      <td>2018</td>\n",
       "      <td>8</td>\n",
       "      <td>Friday</td>\n",
       "      <td>Smiths</td>\n",
       "    </tr>\n",
       "    <tr>\n",
       "      <th>4</th>\n",
       "      <td>2018-08-18</td>\n",
       "      <td>2</td>\n",
       "      <td>2426</td>\n",
       "      <td>1038</td>\n",
       "      <td>108</td>\n",
       "      <td>Kettle Tortilla ChpsHny Jlpno Chili</td>\n",
       "      <td>3</td>\n",
       "      <td>13.8</td>\n",
       "      <td>4.60</td>\n",
       "      <td>150</td>\n",
       "      <td>g</td>\n",
       "      <td>2018</td>\n",
       "      <td>8</td>\n",
       "      <td>Saturday</td>\n",
       "      <td>Kettle</td>\n",
       "    </tr>\n",
       "  </tbody>\n",
       "</table>\n",
       "</div>"
      ],
      "text/plain": [
       "        date store_nbr card_num txn_id prod_nbr  \\\n",
       "0 2018-10-17         1     1000      1        5   \n",
       "1 2019-05-14         1     1307    348       66   \n",
       "2 2019-05-20         1     1343    383       61   \n",
       "3 2018-08-17         2     2373    974       69   \n",
       "4 2018-08-18         2     2426   1038      108   \n",
       "\n",
       "                             prod_name  prod_qty  tot_sales  prod_price  \\\n",
       "0   Natural Chip        Compny SeaSalt         2        6.0        3.00   \n",
       "1                     CCs Nacho Cheese         3        6.3        2.10   \n",
       "2    Smiths Crinkle Cut  Chips Chicken         2        2.9        1.45   \n",
       "3    Smiths Chip Thinly  S Cream Onion         5       15.0        3.00   \n",
       "4  Kettle Tortilla ChpsHny Jlpno Chili         3       13.8        4.60   \n",
       "\n",
       "   prod_size prod_unit  year  month    weekday            brand  \n",
       "0        175         g  2018     10  Wednesday  Natural Chip Co  \n",
       "1        175         g  2019      5    Tuesday              CCs  \n",
       "2        170         g  2019      5     Monday           Smiths  \n",
       "3        175         g  2018      8     Friday           Smiths  \n",
       "4        150         g  2018      8   Saturday           Kettle  "
      ]
     },
     "execution_count": 45,
     "metadata": {},
     "output_type": "execute_result"
    }
   ],
   "source": [
    "df.head()"
   ]
  },
  {
   "cell_type": "code",
   "execution_count": 46,
   "metadata": {},
   "outputs": [
    {
     "name": "stdout",
     "output_type": "stream",
     "text": [
      "Unique brand name:\n",
      "['Natural Chip Co' 'CCs' 'Smiths' 'Kettle' 'Old El Paso' 'Sunbites'\n",
      " 'Doritos' 'Twisties' 'Woolworths' 'Thins' 'Burger Rings' 'Cheezels'\n",
      " 'Infuzions' 'Red Rock Deli' 'Pringles' 'Tyrrells' 'Cobs' 'French Fries'\n",
      " 'Tostitos' 'Cheetos']\n"
     ]
    }
   ],
   "source": [
    "# print out the unique brand name\n",
    "print(f\"Unique brand name:\\n{df['brand'].unique()}\")"
   ]
  },
  {
   "cell_type": "markdown",
   "metadata": {},
   "source": [
    "\n",
    "\n",
    "\n",
    "Product name"
   ]
  },
  {
   "cell_type": "code",
   "execution_count": 47,
   "metadata": {},
   "outputs": [],
   "source": [
    "# remove space in product name\n",
    "df['prod_name'] = df['prod_name'].apply(lambda x : \" \".join(x.split()))"
   ]
  },
  {
   "cell_type": "markdown",
   "metadata": {},
   "source": [
    "Look at full data of product name."
   ]
  },
  {
   "cell_type": "code",
   "execution_count": 48,
   "metadata": {},
   "outputs": [
    {
     "data": {
      "text/html": [
       "<div>\n",
       "<style scoped>\n",
       "    .dataframe tbody tr th:only-of-type {\n",
       "        vertical-align: middle;\n",
       "    }\n",
       "\n",
       "    .dataframe tbody tr th {\n",
       "        vertical-align: top;\n",
       "    }\n",
       "\n",
       "    .dataframe thead th {\n",
       "        text-align: right;\n",
       "    }\n",
       "</style>\n",
       "<table border=\"1\" class=\"dataframe\">\n",
       "  <thead>\n",
       "    <tr style=\"text-align: right;\">\n",
       "      <th></th>\n",
       "      <th>brand</th>\n",
       "      <th>prod_name</th>\n",
       "    </tr>\n",
       "  </thead>\n",
       "  <tbody>\n",
       "    <tr>\n",
       "      <th>0</th>\n",
       "      <td>Burger Rings</td>\n",
       "      <td>Burger Rings</td>\n",
       "    </tr>\n",
       "    <tr>\n",
       "      <th>1</th>\n",
       "      <td>CCs</td>\n",
       "      <td>CCs Original; CCs Tasty Cheese; CCs Nacho Cheese</td>\n",
       "    </tr>\n",
       "    <tr>\n",
       "      <th>2</th>\n",
       "      <td>Cheetos</td>\n",
       "      <td>Cheetos Chs Bacon Balls; Cheetos Puffs</td>\n",
       "    </tr>\n",
       "    <tr>\n",
       "      <th>3</th>\n",
       "      <td>Cheezels</td>\n",
       "      <td>Cheezels Cheese; Cheezels Cheese Box</td>\n",
       "    </tr>\n",
       "    <tr>\n",
       "      <th>4</th>\n",
       "      <td>Cobs</td>\n",
       "      <td>Cobs Popd Swt Chlli Sr Cream Chips; Cobs Popd Sea Salt Chips; Cobs Popd Sour Crm Chives Chips</td>\n",
       "    </tr>\n",
       "    <tr>\n",
       "      <th>5</th>\n",
       "      <td>Doritos</td>\n",
       "      <td>Dorito Corn Chp Supreme; Doritos Salsa Mild; Doritos Corn Chips Nacho Cheese; Doritos Salsa Medium; Doritos Corn Chip Mexican Jalapeno; Doritos Corn Chips Cheese Supreme; Doritos Corn Chips Original; Doritos Mexicana; Doritos Corn Chip Southern Chicken; Doritos Cheese Supreme</td>\n",
       "    </tr>\n",
       "    <tr>\n",
       "      <th>6</th>\n",
       "      <td>French Fries</td>\n",
       "      <td>French Fries Potato Chips</td>\n",
       "    </tr>\n",
       "    <tr>\n",
       "      <th>7</th>\n",
       "      <td>Infuzions</td>\n",
       "      <td>Infuzions Thai SweetChili PotatoMix; Infuzions BBQ Rib Prawn Crackers; Infuzions Mango Chutny Papadums; Infuzions SourCream Herbs Veg Strws; Infzns Crn Crnchers Tangy Gcamole</td>\n",
       "    </tr>\n",
       "    <tr>\n",
       "      <th>8</th>\n",
       "      <td>Kettle</td>\n",
       "      <td>Kettle Original; Kettle Swt Pot Sea Salt; Kettle Honey Soy Chicken; Kettle Sensations Camembert Fig; Kettle Sweet Chilli And Sour Cream; Kettle Chilli; Kettle Sensations Siracha Lime; Kettle Sea Salt And Vinegar; Kettle Tortilla ChpsHny Jlpno Chili; Kettle Tortilla ChpsBtroot Ricotta; Kettle Tortilla ChpsFeta Garlic; Kettle Mozzarella Basil Pesto; Kettle Sensations BBQ Maple</td>\n",
       "    </tr>\n",
       "    <tr>\n",
       "      <th>9</th>\n",
       "      <td>Natural Chip Co</td>\n",
       "      <td>Natural ChipCo Sea Salt Vinegr; Natural ChipCo Hony Soy Chckn; Natural Chip Compny SeaSalt; NCC Sour Cream Garden Chives; Natural Chip Co Tmato Hrb Spce</td>\n",
       "    </tr>\n",
       "    <tr>\n",
       "      <th>10</th>\n",
       "      <td>Old El Paso</td>\n",
       "      <td>Old El Paso Salsa Dip Tomato Med; Old El Paso Salsa Dip Chnky Tom Ht; Old El Paso Salsa Dip Tomato Mild</td>\n",
       "    </tr>\n",
       "    <tr>\n",
       "      <th>11</th>\n",
       "      <td>Pringles</td>\n",
       "      <td>Pringles Mystery Flavour; Pringles Slt Vingar; Pringles Sthrn FriedChicken; Pringles Barbeque; Pringles Sweet Spcy BBQ; Pringles SourCream Onion; Pringles Original Crisps; Pringles Chicken Salt Crips</td>\n",
       "    </tr>\n",
       "    <tr>\n",
       "      <th>12</th>\n",
       "      <td>Red Rock Deli</td>\n",
       "      <td>RRD Sweet Chilli Sour Cream; RRD Honey Soy Chicken; RRD SR Slow Rst Pork Belly; RRD Pc Sea Salt; Red Rock Deli Chikn Garlic Aioli; RRD Salt Vinegar; RRD Lime Pepper; Red Rock Deli Thai Chilli Lime; RRD Chilli Coconut; Red Rock Deli Sp Salt Truffle; RRD Steak Chimuchurri; Red Rock Deli SR Salsa Mzzrlla</td>\n",
       "    </tr>\n",
       "    <tr>\n",
       "      <th>13</th>\n",
       "      <td>Smiths</td>\n",
       "      <td>Smiths Crinkle Cut Chips Chicken; Smiths Thinly Cut Roast Chicken; Smiths Crinkle Cut Chips Chs Onion; Smiths Crinkle Cut Tomato Salsa; Smiths Chip Thinly CutSalt Vinegr; Smiths Crinkle Cut Chips Barbecue; Smiths Crinkle Cut Chips Original; Smith Crinkle Cut Bolognese; Smiths Chip Thinly S Cream Onion; Smiths Thinly Swt Chli S Cream; Smith Crinkle Cut Mac N Cheese; Smiths Crinkle Cut Snag Sauce; Smiths Crnkle Chip Orgnl Big Bag; Smiths Crinkle Chips Salt Vinegar; Smiths Chip Thinly Cut Original; Smiths Crinkle Original; Smiths Crinkle Cut French OnionDip; Smiths Crinkle Cut Salt Vinegar</td>\n",
       "    </tr>\n",
       "    <tr>\n",
       "      <th>14</th>\n",
       "      <td>Sunbites</td>\n",
       "      <td>GrnWves Plus Btroot Chilli Jam; Sunbites Whlegrn Crisps Frch Onin; Grain Waves Sweet Chilli; Snbts Whlgrn Crisps Cheddr Mstrd; Grain Waves Sour Cream Chives</td>\n",
       "    </tr>\n",
       "    <tr>\n",
       "      <th>15</th>\n",
       "      <td>Thins</td>\n",
       "      <td>Thins Chips Seasonedchicken; Thins Potato Chips Hot Spicy; Thins Chips Light Tangy; Thins Chips Originl saltd; Thins Chips Salt Vinegar</td>\n",
       "    </tr>\n",
       "    <tr>\n",
       "      <th>16</th>\n",
       "      <td>Tostitos</td>\n",
       "      <td>Tostitos Smoked Chipotle; Tostitos Lightly Salted; Tostitos Splash Of Lime</td>\n",
       "    </tr>\n",
       "    <tr>\n",
       "      <th>17</th>\n",
       "      <td>Twisties</td>\n",
       "      <td>Twisties Chicken; Twisties Cheese; Twisties Cheese Burger</td>\n",
       "    </tr>\n",
       "    <tr>\n",
       "      <th>18</th>\n",
       "      <td>Tyrrells</td>\n",
       "      <td>Tyrrells Crisps Ched Chives; Tyrrells Crisps Lightly Salted</td>\n",
       "    </tr>\n",
       "    <tr>\n",
       "      <th>19</th>\n",
       "      <td>Woolworths</td>\n",
       "      <td>Woolworths Mild Salsa; WW Sour Cream OnionStacked Chips; WW Supreme Cheese Corn Chips; WW Original Stacked Chips; WW D Style Chip Sea Salt; Woolworths Medium Salsa; WW Crinkle Cut Chicken; Woolworths Cheese Rings; WW Crinkle Cut Original; WW Original Corn Chips</td>\n",
       "    </tr>\n",
       "  </tbody>\n",
       "</table>\n",
       "</div>"
      ],
      "text/plain": [
       "              brand  \\\n",
       "0      Burger Rings   \n",
       "1               CCs   \n",
       "2           Cheetos   \n",
       "3          Cheezels   \n",
       "4              Cobs   \n",
       "5           Doritos   \n",
       "6      French Fries   \n",
       "7         Infuzions   \n",
       "8            Kettle   \n",
       "9   Natural Chip Co   \n",
       "10      Old El Paso   \n",
       "11         Pringles   \n",
       "12    Red Rock Deli   \n",
       "13           Smiths   \n",
       "14         Sunbites   \n",
       "15            Thins   \n",
       "16         Tostitos   \n",
       "17         Twisties   \n",
       "18         Tyrrells   \n",
       "19       Woolworths   \n",
       "\n",
       "                                                                                                                                                                                                                                                                                                                                                                                                                                                                                                                                                                                                            prod_name  \n",
       "0                                                                                                                                                                                                                                                                                                                                                                                                                                                                                                                                                                                                        Burger Rings  \n",
       "1                                                                                                                                                                                                                                                                                                                                                                                                                                                                                                                                                                    CCs Original; CCs Tasty Cheese; CCs Nacho Cheese  \n",
       "2                                                                                                                                                                                                                                                                                                                                                                                                                                                                                                                                                                              Cheetos Chs Bacon Balls; Cheetos Puffs  \n",
       "3                                                                                                                                                                                                                                                                                                                                                                                                                                                                                                                                                                                Cheezels Cheese; Cheezels Cheese Box  \n",
       "4                                                                                                                                                                                                                                                                                                                                                                                                                                                                                                                       Cobs Popd Swt Chlli Sr Cream Chips; Cobs Popd Sea Salt Chips; Cobs Popd Sour Crm Chives Chips  \n",
       "5                                                                                                                                                                                                                                                                                                                                Dorito Corn Chp Supreme; Doritos Salsa Mild; Doritos Corn Chips Nacho Cheese; Doritos Salsa Medium; Doritos Corn Chip Mexican Jalapeno; Doritos Corn Chips Cheese Supreme; Doritos Corn Chips Original; Doritos Mexicana; Doritos Corn Chip Southern Chicken; Doritos Cheese Supreme  \n",
       "6                                                                                                                                                                                                                                                                                                                                                                                                                                                                                                                                                                                           French Fries Potato Chips  \n",
       "7                                                                                                                                                                                                                                                                                                                                                                                                                                      Infuzions Thai SweetChili PotatoMix; Infuzions BBQ Rib Prawn Crackers; Infuzions Mango Chutny Papadums; Infuzions SourCream Herbs Veg Strws; Infzns Crn Crnchers Tangy Gcamole  \n",
       "8                                                                                                                                                                                                                           Kettle Original; Kettle Swt Pot Sea Salt; Kettle Honey Soy Chicken; Kettle Sensations Camembert Fig; Kettle Sweet Chilli And Sour Cream; Kettle Chilli; Kettle Sensations Siracha Lime; Kettle Sea Salt And Vinegar; Kettle Tortilla ChpsHny Jlpno Chili; Kettle Tortilla ChpsBtroot Ricotta; Kettle Tortilla ChpsFeta Garlic; Kettle Mozzarella Basil Pesto; Kettle Sensations BBQ Maple  \n",
       "9                                                                                                                                                                                                                                                                                                                                                                                                                                                            Natural ChipCo Sea Salt Vinegr; Natural ChipCo Hony Soy Chckn; Natural Chip Compny SeaSalt; NCC Sour Cream Garden Chives; Natural Chip Co Tmato Hrb Spce  \n",
       "10                                                                                                                                                                                                                                                                                                                                                                                                                                                                                                            Old El Paso Salsa Dip Tomato Med; Old El Paso Salsa Dip Chnky Tom Ht; Old El Paso Salsa Dip Tomato Mild  \n",
       "11                                                                                                                                                                                                                                                                                                                                                                                                            Pringles Mystery Flavour; Pringles Slt Vingar; Pringles Sthrn FriedChicken; Pringles Barbeque; Pringles Sweet Spcy BBQ; Pringles SourCream Onion; Pringles Original Crisps; Pringles Chicken Salt Crips  \n",
       "12                                                                                                                                                                                                                                                                                                     RRD Sweet Chilli Sour Cream; RRD Honey Soy Chicken; RRD SR Slow Rst Pork Belly; RRD Pc Sea Salt; Red Rock Deli Chikn Garlic Aioli; RRD Salt Vinegar; RRD Lime Pepper; Red Rock Deli Thai Chilli Lime; RRD Chilli Coconut; Red Rock Deli Sp Salt Truffle; RRD Steak Chimuchurri; Red Rock Deli SR Salsa Mzzrlla  \n",
       "13  Smiths Crinkle Cut Chips Chicken; Smiths Thinly Cut Roast Chicken; Smiths Crinkle Cut Chips Chs Onion; Smiths Crinkle Cut Tomato Salsa; Smiths Chip Thinly CutSalt Vinegr; Smiths Crinkle Cut Chips Barbecue; Smiths Crinkle Cut Chips Original; Smith Crinkle Cut Bolognese; Smiths Chip Thinly S Cream Onion; Smiths Thinly Swt Chli S Cream; Smith Crinkle Cut Mac N Cheese; Smiths Crinkle Cut Snag Sauce; Smiths Crnkle Chip Orgnl Big Bag; Smiths Crinkle Chips Salt Vinegar; Smiths Chip Thinly Cut Original; Smiths Crinkle Original; Smiths Crinkle Cut French OnionDip; Smiths Crinkle Cut Salt Vinegar  \n",
       "14                                                                                                                                                                                                                                                                                                                                                                                                                                                       GrnWves Plus Btroot Chilli Jam; Sunbites Whlegrn Crisps Frch Onin; Grain Waves Sweet Chilli; Snbts Whlgrn Crisps Cheddr Mstrd; Grain Waves Sour Cream Chives  \n",
       "15                                                                                                                                                                                                                                                                                                                                                                                                                                                                            Thins Chips Seasonedchicken; Thins Potato Chips Hot Spicy; Thins Chips Light Tangy; Thins Chips Originl saltd; Thins Chips Salt Vinegar  \n",
       "16                                                                                                                                                                                                                                                                                                                                                                                                                                                                                                                                         Tostitos Smoked Chipotle; Tostitos Lightly Salted; Tostitos Splash Of Lime  \n",
       "17                                                                                                                                                                                                                                                                                                                                                                                                                                                                                                                                                          Twisties Chicken; Twisties Cheese; Twisties Cheese Burger  \n",
       "18                                                                                                                                                                                                                                                                                                                                                                                                                                                                                                                                                        Tyrrells Crisps Ched Chives; Tyrrells Crisps Lightly Salted  \n",
       "19                                                                                                                                                                                                                                                                                                                                              Woolworths Mild Salsa; WW Sour Cream OnionStacked Chips; WW Supreme Cheese Corn Chips; WW Original Stacked Chips; WW D Style Chip Sea Salt; Woolworths Medium Salsa; WW Crinkle Cut Chicken; Woolworths Cheese Rings; WW Crinkle Cut Original; WW Original Corn Chips  "
      ]
     },
     "execution_count": 48,
     "metadata": {},
     "output_type": "execute_result"
    }
   ],
   "source": [
    "pd.set_option('display.max_colwidth', None)\n",
    "#group by all brand name\n",
    "df[['brand','prod_name']].groupby('brand').agg(lambda x: '; '.join(set(x))).reset_index()"
   ]
  },
  {
   "cell_type": "code",
   "execution_count": 49,
   "metadata": {},
   "outputs": [],
   "source": [
    "# Remove Old El Paso brand\n",
    "df = df[(df['brand'] != \"Old El Paso\") & (df['brand'] != 'Tostitos Splash Of Lime')]"
   ]
  },
  {
   "cell_type": "code",
   "execution_count": 50,
   "metadata": {},
   "outputs": [
    {
     "name": "stdout",
     "output_type": "stream",
     "text": [
      "Product that have 'salsa':\n",
      "['Red Rock Deli SR Salsa Mzzrlla' 'Smiths Crinkle Cut Tomato Salsa'\n",
      " 'Doritos Salsa Medium' 'Woolworths Mild Salsa' 'Woolworths Medium Salsa'\n",
      " 'Doritos Salsa Mild']\n"
     ]
    }
   ],
   "source": [
    "#Print out product names that have \"salsa\"\n",
    "print(f\"Product that have 'salsa':\\n{df[df['prod_name'].str.contains('Salsa')]['prod_name'].unique()}\")"
   ]
  },
  {
   "cell_type": "markdown",
   "metadata": {},
   "source": [
    "#remove all the above product"
   ]
  },
  {
   "cell_type": "code",
   "execution_count": 51,
   "metadata": {},
   "outputs": [],
   "source": [
    "df = df[(df[\"prod_name\"] != \"Doritos Salsa Medium\")&\n",
    "        (df[\"prod_name\"] != \"Doritos Salsa Mild\")&\n",
    "        (df[\"prod_name\"] != \"Woolworths Mild Salsa\")&\n",
    "        (df[\"prod_name\"] != \"Woolworths Medium Salsa\")&\n",
    "        (df[\"prod_name\"] != \"Red Rock Deli SR Salsa Mzzrlla\")&\n",
    "        (df[\"prod_name\"] !=  \"Smiths Crinkle Cut Tomato Salsa\")\n",
    "\n",
    "]"
   ]
  },
  {
   "cell_type": "code",
   "execution_count": 52,
   "metadata": {},
   "outputs": [
    {
     "data": {
      "text/plain": [
       "<bound method Series.unique of 0         2\n",
       "1         3\n",
       "2         2\n",
       "3         5\n",
       "4         3\n",
       "         ..\n",
       "264828    2\n",
       "264829    1\n",
       "264830    2\n",
       "264831    2\n",
       "264832    2\n",
       "Name: prod_qty, Length: 246731, dtype: int64>"
      ]
     },
     "execution_count": 52,
     "metadata": {},
     "output_type": "execute_result"
    }
   ],
   "source": [
    "df[\"prod_qty\"].unique"
   ]
  },
  {
   "cell_type": "markdown",
   "metadata": {},
   "source": [
    "#Transaction Data visualization.\n",
    "#see the distribution of \"total sale\", \"product size\", \"product price\" and product quantity.\n"
   ]
  },
  {
   "cell_type": "code",
   "execution_count": 53,
   "metadata": {},
   "outputs": [],
   "source": [
    "# list of product name and numarical variable\n",
    "num_col = [ \"tot_sales\", \"prod_price\", \"prod_size\",\"prod_qty\"]\n",
    "num_name = [\"TOTAL_SALES\", \"PRODUCT_PRICE\", \"PRODUCT_SIZE\", \"PRODUCT_QTY\"]\n",
    "\n"
   ]
  },
  {
   "cell_type": "code",
   "execution_count": 54,
   "metadata": {},
   "outputs": [
    {
     "name": "stdout",
     "output_type": "stream",
     "text": [
      "\n",
      " Total Sales mu = 7.32 and sigma = 2.47\n",
      "\n",
      "\n",
      " PRoduct Price : mu = 3.83 and sigma = 1.08\n",
      "\n",
      "\n",
      " Product Size: mu = 175.58 and sigma = 59.43\n",
      "\n"
     ]
    },
    {
     "data": {
      "image/png": "[encoded data removed]",
      "text/plain": [
       "<Figure size 720x576 with 4 Axes>"
      ]
     },
     "metadata": {
      "needs_background": "light"
     },
     "output_type": "display_data"
    }
   ],
   "source": [
    "\n",
    "from scipy import stats\n",
    "from scipy.stats import norm, skew #for some statistics\n",
    "\n",
    "# plots distribusions\n",
    "#Loop through 4 graphs\n",
    "fig, axes = plt.subplots(2,2, figsize= (10,8))\n",
    "sns.distplot(df[\"tot_sales\"], fit= norm, ax= axes[0,0])\n",
    " # Get the fitted parameters used by the function\n",
    "(mu1, sigma1) = norm.fit(df[\"tot_sales\"])\n",
    "print('\\n Total Sales mu = {:.2f} and sigma = {:.2f}\\n'.format(mu1, sigma1))\n",
    "plt.legend(['Normal dist.(mu= {:.2f} and \\nsigma=s{:.2f})'.format(mu1, sigma1)],\n",
    "              loc= 'best')\n",
    "plt.ylabel(\"Frequency\")\n",
    "plt.title('Total Sale Distribution')\n",
    "\n",
    "\n",
    "\n",
    "df[\"prod_qty\"].plot.hist(title=(\"Product Quantity\"), ax= axes[0,1])\n",
    "#(mu,sigm ) = norm.fit(df[\"prod_qty\"], fit = norm)\n",
    "#print('\\n mu = {:.2f} and sigma = {:.2f}\\n'.format(mu, sigma))\n",
    "#plt.legend(['Normal dist.(mu= {:.2f} and \\n sigma = s {:.2f})'.format(mu, sigma)],\n",
    "#         loc = 'best')\n",
    "plt.title('Product Quantity Distribution')\n",
    "\n",
    "\n",
    "\n",
    "\n",
    "sns.distplot(df['prod_price'], fit = norm, ax= axes[1,0])\n",
    "(mu2, sigma2)= norm.fit(df['prod_price'])\n",
    "print('\\n PRoduct Price : mu = {:.2f} and sigma = {:.2f}\\n'.format(mu2, sigma2))\n",
    "plt.legend(['Normal dist.(mu = {:.2f} and \\n sigma = {:.2f})'.format(mu2, sigma2)],\n",
    "         loc = 'best')\n",
    "plt.ylabel(\"Frequency\")\n",
    "plt.title('Product Price Distribution')\n",
    "\n",
    "\n",
    "sns.distplot(df[\"prod_size\"], fit= norm, ax= axes[1,1])\n",
    "(mu3, sigma3) = norm.fit(df[\"prod_size\"])\n",
    "print('\\n Product Size: mu = {:.2f} and sigma = {:.2f}\\n'.format(mu3, sigma3))\n",
    "plt.legend(['Normal dist. (mu= {:.2f} and \\n sigma = {:.2f})'.format(mu3, sigma3)],\n",
    "          loc = \"best\")\n",
    "plt.ylabel(\"Frequency\")\n",
    "plt.title('Product Size Distribution')\n",
    "\n",
    "\n",
    "axes[0,0].set_ylabel(None)\n",
    "axes[0,1].set_ylabel(None)\n",
    "axes[1,0].set_ylabel(None)\n",
    "axes[1,1].set_ylabel(None)\n",
    "plt.tight_layout()\n"
   ]
  },
  {
   "cell_type": "markdown",
   "metadata": {},
   "source": [
    "#there is skewness in Total product sales we need to normalize it.\n"
   ]
  },
  {
   "cell_type": "markdown",
   "metadata": {},
   "source": [
    "## Use Emperical rule to the outlier and anamolies in the date set.\n"
   ]
  },
  {
   "cell_type": "code",
   "execution_count": 55,
   "metadata": {},
   "outputs": [
    {
     "data": {
      "text/plain": [
       "count    246731.000000\n",
       "mean          7.316141\n",
       "std           2.474897\n",
       "min           1.700000\n",
       "25%           5.800000\n",
       "50%           7.400000\n",
       "75%           8.800000\n",
       "max          29.500000\n",
       "Name: tot_sales, dtype: float64"
      ]
     },
     "execution_count": 55,
     "metadata": {},
     "output_type": "execute_result"
    }
   ],
   "source": [
    "df[\"tot_sales\"].describe()"
   ]
  },
  {
   "cell_type": "code",
   "execution_count": 56,
   "metadata": {},
   "outputs": [],
   "source": [
    "upper_limit =  mu1 + 3* sigma1\n",
    "lower_limit =  mu1 - 3* sigma1"
   ]
  },
  {
   "cell_type": "code",
   "execution_count": 57,
   "metadata": {},
   "outputs": [
    {
     "name": "stdout",
     "output_type": "stream",
     "text": [
      "14.740815424748385\n",
      "-0.10853411433340376\n"
     ]
    }
   ],
   "source": [
    "print(upper_limit)\n",
    "print(lower_limit)"
   ]
  },
  {
   "cell_type": "code",
   "execution_count": 58,
   "metadata": {},
   "outputs": [
    {
     "data": {
      "text/plain": [
       "(246731, 15)"
      ]
     },
     "execution_count": 58,
     "metadata": {},
     "output_type": "execute_result"
    }
   ],
   "source": [
    "df.shape"
   ]
  },
  {
   "cell_type": "code",
   "execution_count": 62,
   "metadata": {},
   "outputs": [],
   "source": [
    "# remove unwanted data, we only consider 99.97 % data\n",
    "df = df[(df['tot_sales'] < upper_limit)] "
   ]
  },
  {
   "cell_type": "code",
   "execution_count": 63,
   "metadata": {},
   "outputs": [
    {
     "data": {
      "text/plain": [
       "(246155, 15)"
      ]
     },
     "execution_count": 63,
     "metadata": {},
     "output_type": "execute_result"
    }
   ],
   "source": [
    "df.shape"
   ]
  },
  {
   "cell_type": "code",
   "execution_count": 64,
   "metadata": {},
   "outputs": [
    {
     "name": "stdout",
     "output_type": "stream",
     "text": [
      "\n",
      " Total Sales mu = 7.29 and sigma = 2.40\n",
      "\n",
      "\n",
      " PRoduct Price : mu = 3.83 and sigma = 1.08\n",
      "\n",
      "\n",
      " Product Size: mu = 175.55 and sigma = 59.39\n",
      "\n"
     ]
    },
    {
     "data": {
      "image/png": "[encoded data removed]",
      "text/plain": [
       "<Figure size 720x576 with 4 Axes>"
      ]
     },
     "metadata": {
      "needs_background": "light"
     },
     "output_type": "display_data"
    }
   ],
   "source": [
    "\n",
    "from scipy import stats\n",
    "from scipy.stats import norm, skew #for some statistics\n",
    "\n",
    "# plots distribusions\n",
    "#Loop through 4 graphs\n",
    "fig, axes = plt.subplots(2,2, figsize= (10,8))\n",
    "sns.distplot(df[\"tot_sales\"], fit= norm, ax= axes[0,0])\n",
    " # Get the fitted parameters used by the function\n",
    "(mu1, sigma1) = norm.fit(df[\"tot_sales\"])\n",
    "print('\\n Total Sales mu = {:.2f} and sigma = {:.2f}\\n'.format(mu1, sigma1))\n",
    "plt.legend(['Normal dist.(mu= {:.2f} and \\nsigma=s{:.2f})'.format(mu1, sigma1)],\n",
    "              loc= 'best')\n",
    "plt.ylabel(\"Frequency\")\n",
    "plt.title('Total Sale Distribution')\n",
    "\n",
    "\n",
    "\n",
    "df[\"prod_qty\"].plot.hist(title=(\"Product Quantity\"), ax= axes[0,1])\n",
    "#(mu,sigm ) = norm.fit(df[\"prod_qty\"], fit = norm)\n",
    "#print('\\n mu = {:.2f} and sigma = {:.2f}\\n'.format(mu, sigma))\n",
    "#plt.legend(['Normal dist.(mu= {:.2f} and \\n sigma = s {:.2f})'.format(mu, sigma)],\n",
    "#         loc = 'best')\n",
    "plt.title('Product Quantity Distribution')\n",
    "\n",
    "\n",
    "\n",
    "\n",
    "sns.distplot(df['prod_price'], fit = norm, ax= axes[1,0])\n",
    "(mu2, sigma2)= norm.fit(df['prod_price'])\n",
    "print('\\n PRoduct Price : mu = {:.2f} and sigma = {:.2f}\\n'.format(mu2, sigma2))\n",
    "plt.legend(['Normal dist.(mu = {:.2f} and \\n sigma = {:.2f})'.format(mu2, sigma2)],\n",
    "         loc = 'best')\n",
    "plt.ylabel(\"Frequency\")\n",
    "plt.title('Product Price Distribution')\n",
    "\n",
    "\n",
    "sns.distplot(df[\"prod_size\"], fit= norm, ax= axes[1,1])\n",
    "(mu3, sigma3) = norm.fit(df[\"prod_size\"])\n",
    "print('\\n Product Size: mu = {:.2f} and sigma = {:.2f}\\n'.format(mu3, sigma3))\n",
    "plt.legend(['Normal dist. (mu= {:.2f} and \\n sigma = {:.2f})'.format(mu3, sigma3)],\n",
    "          loc = \"best\")\n",
    "plt.ylabel(\"Frequency\")\n",
    "plt.title('Product Size Distribution')\n",
    "\n",
    "\n",
    "axes[0,0].set_ylabel(None)\n",
    "axes[0,1].set_ylabel(None)\n",
    "axes[1,0].set_ylabel(None)\n",
    "axes[1,1].set_ylabel(None)\n",
    "plt.tight_layout()\n"
   ]
  },
  {
   "cell_type": "markdown",
   "metadata": {},
   "source": [
    "##### Now we got clean data without outliers."
   ]
  },
  {
   "cell_type": "markdown",
   "metadata": {},
   "source": [
    "#### We can get the following informations.\n",
    "* Most people spend more or less 10 dollers for single transations.\n",
    "* More people preffer 2 bags  of chips in one go.\n",
    "* People more likely to buy 3$-6$ price range chips.\n",
    "* In each transaction a bag of chips has a size, on average of 100g-200g."
   ]
  },
  {
   "cell_type": "markdown",
   "metadata": {},
   "source": [
    "### Total sales and number of transaction over Time."
   ]
  },
  {
   "cell_type": "code",
   "execution_count": 79,
   "metadata": {},
   "outputs": [
    {
     "data": {
      "text/plain": [
       "Text(0.5, 0, 'Period')"
      ]
     },
     "execution_count": 79,
     "metadata": {},
     "output_type": "execute_result"
    },
    {
     "data": {
      "image/png": "[encoded data removed]",
      "text/plain": [
       "<Figure size 864x864 with 2 Axes>"
      ]
     },
     "metadata": {
      "needs_background": "light"
     },
     "output_type": "display_data"
    }
   ],
   "source": [
    "fig, axes = plt.subplots(2, 1, figsize = (12, 12))\n",
    "\n",
    "# Total sales by dates\n",
    "df.pivot_table(index = \"date\",\n",
    "                values = \"tot_sales\",\n",
    "              aggfunc = \"sum\").plot(ax = axes[0], title = \"TOTAL SALES\", legend = None,\n",
    "                                   color = \"cornflowerblue\")\n",
    "\n",
    "df.pivot_table(index = \"date\",\n",
    "              values = \"txn_id\",\n",
    "              aggfunc = lambda x : x.nunique()).plot(ax= axes[1], title =\"TOTAL TRANSACTION\", legend = None,\n",
    "                                                    color = \"salmon\", sharex = True)\n",
    "plt.xlabel(\"Period\")"
   ]
  },
  {
   "cell_type": "code",
   "execution_count": null,
   "metadata": {},
   "outputs": [],
   "source": []
  },
  {
   "cell_type": "code",
   "execution_count": null,
   "metadata": {},
   "outputs": [],
   "source": []
  },
  {
   "cell_type": "code",
   "execution_count": null,
   "metadata": {},
   "outputs": [],
   "source": []
  },
  {
   "cell_type": "code",
   "execution_count": null,
   "metadata": {},
   "outputs": [],
   "source": []
  },
  {
   "cell_type": "code",
   "execution_count": null,
   "metadata": {},
   "outputs": [],
   "source": []
  },
  {
   "cell_type": "code",
   "execution_count": null,
   "metadata": {},
   "outputs": [],
   "source": []
  },
  {
   "cell_type": "code",
   "execution_count": null,
   "metadata": {},
   "outputs": [],
   "source": []
  },
  {
   "cell_type": "code",
   "execution_count": null,
   "metadata": {},
   "outputs": [],
   "source": []
  },
  {
   "cell_type": "code",
   "execution_count": null,
   "metadata": {},
   "outputs": [],
   "source": []
  },
  {
   "cell_type": "code",
   "execution_count": null,
   "metadata": {},
   "outputs": [],
   "source": []
  },
  {
   "cell_type": "code",
   "execution_count": null,
   "metadata": {},
   "outputs": [],
   "source": []
  },
  {
   "cell_type": "code",
   "execution_count": null,
   "metadata": {},
   "outputs": [],
   "source": []
  },
  {
   "cell_type": "code",
   "execution_count": null,
   "metadata": {},
   "outputs": [],
   "source": []
  }
 ],
 "metadata": {
  "kernelspec": {
   "display_name": "Python 3",
   "language": "python",
   "name": "python3"
  },
  "language_info": {
   "codemirror_mode": {
    "name": "ipython",
    "version": 3
   },
   "file_extension": ".py",
   "mimetype": "text/x-python",
   "name": "python",
   "nbconvert_exporter": "python",
   "pygments_lexer": "ipython3",
   "version": "3.7.6"
  }
 },
 "nbformat": 4,
 "nbformat_minor": 4
}
