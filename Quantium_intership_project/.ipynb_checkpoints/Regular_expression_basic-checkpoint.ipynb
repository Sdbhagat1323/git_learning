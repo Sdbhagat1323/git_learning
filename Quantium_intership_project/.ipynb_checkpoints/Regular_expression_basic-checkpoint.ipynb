{
 "cells": [
  {
   "cell_type": "code",
   "execution_count": 1,
   "metadata": {},
   "outputs": [],
   "source": [
    "# Regrular expresstion\n",
    "import re\n",
    "\"\"\"Identifier:\n",
    "\\d any number\n",
    "\\D anything but a number\n",
    "\\s space\n",
    "\\S anything but space\n",
    "\\w any charecters\n",
    "\\W anything but a character\n",
    ". any  character, except for newline\n",
    "\\b the whitespace around word\n",
    "\\. a period\n",
    "\n",
    "Modifier:\n",
    "\n",
    "{1, 3} we're expecting for example \\d{1-3}\n",
    "+ Match 1 or more\n",
    "? Match 0 or 1\n",
    "* Match 0 or more\n",
    "$ Match end of the string \n",
    "^ Matching the beginning of a string\n",
    "| either or\n",
    "[] range or \"varience\"\n",
    "{x} expecting \"x\"  amount\n",
    "\n",
    "\n",
    "White space charecter\n",
    "\\n new line\n",
    "\\s space \n",
    "\\t tab\n",
    "\\e esacpe\n",
    "\\f form feed\n",
    "\\r return\n",
    "\n",
    "\"\"\"\n",
    "\n",
    "\n",
    "\n",
    "\n",
    "\n"
   ]
  },
  {
   "cell_type": "code",
   "execution_count": 2,
   "metadata": {},
   "outputs": [],
   "source": [
    "import re"
   ]
  },
  {
   "cell_type": "code",
   "execution_count": 4,
   "metadata": {},
   "outputs": [],
   "source": [
    "example_string = \"\"\" Jessca is 15 year old, and Daniel is 27 years old.\n",
    "Edward is 97, and his grandfather, Oscar, is 102. \"\"\""
   ]
  },
  {
   "cell_type": "code",
   "execution_count": 5,
   "metadata": {},
   "outputs": [],
   "source": [
    "ages =  re.findall(r'\\d{1,3}', example_string)\n",
    "names =  re.findall(r'[A-Z][a-z]*', example_string)"
   ]
  },
  {
   "cell_type": "code",
   "execution_count": 6,
   "metadata": {},
   "outputs": [
    {
     "name": "stdout",
     "output_type": "stream",
     "text": [
      "['15', '27', '97', '102'] ['Jessca', 'Daniel', 'Edward', 'Oscar']\n"
     ]
    }
   ],
   "source": [
    "print(ages, names)"
   ]
  },
  {
   "cell_type": "code",
   "execution_count": 9,
   "metadata": {},
   "outputs": [],
   "source": [
    "ageDict = {}\n",
    "\n",
    "x = 0\n",
    "for eachName in names:\n",
    "    ageDict[eachName] = ages[x]\n",
    "    x+=1"
   ]
  },
  {
   "cell_type": "code",
   "execution_count": 10,
   "metadata": {},
   "outputs": [
    {
     "name": "stdout",
     "output_type": "stream",
     "text": [
      "{'Jessca': '15', 'Daniel': '27', 'Edward': '97', 'Oscar': '102'}\n"
     ]
    }
   ],
   "source": [
    "print(ageDict)"
   ]
  },
  {
   "cell_type": "code",
   "execution_count": null,
   "metadata": {},
   "outputs": [],
   "source": []
  },
  {
   "cell_type": "code",
   "execution_count": null,
   "metadata": {},
   "outputs": [],
   "source": []
  },
  {
   "cell_type": "code",
   "execution_count": null,
   "metadata": {},
   "outputs": [],
   "source": []
  },
  {
   "cell_type": "code",
   "execution_count": null,
   "metadata": {},
   "outputs": [],
   "source": []
  },
  {
   "cell_type": "code",
   "execution_count": null,
   "metadata": {},
   "outputs": [],
   "source": []
  },
  {
   "cell_type": "code",
   "execution_count": null,
   "metadata": {},
   "outputs": [],
   "source": []
  },
  {
   "cell_type": "code",
   "execution_count": null,
   "metadata": {},
   "outputs": [],
   "source": []
  },
  {
   "cell_type": "code",
   "execution_count": null,
   "metadata": {},
   "outputs": [],
   "source": []
  }
 ],
 "metadata": {
  "kernelspec": {
   "display_name": "Python 3",
   "language": "python",
   "name": "python3"
  },
  "language_info": {
   "codemirror_mode": {
    "name": "ipython",
    "version": 3
   },
   "file_extension": ".py",
   "mimetype": "text/x-python",
   "name": "python",
   "nbconvert_exporter": "python",
   "pygments_lexer": "ipython3",
   "version": "3.7.6"
  }
 },
 "nbformat": 4,
 "nbformat_minor": 4
}
