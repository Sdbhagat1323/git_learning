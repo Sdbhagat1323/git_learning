{
 "cells": [
  {
   "cell_type": "code",
   "execution_count": 1,
   "metadata": {},
   "outputs": [],
   "source": [
    "import pandas as pd \n",
    "import re"
   ]
  },
  {
   "cell_type": "code",
   "execution_count": 2,
   "metadata": {},
   "outputs": [
    {
     "data": {
      "text/html": [
       "<div>\n",
       "<style scoped>\n",
       "    .dataframe tbody tr th:only-of-type {\n",
       "        vertical-align: middle;\n",
       "    }\n",
       "\n",
       "    .dataframe tbody tr th {\n",
       "        vertical-align: top;\n",
       "    }\n",
       "\n",
       "    .dataframe thead th {\n",
       "        text-align: right;\n",
       "    }\n",
       "</style>\n",
       "<table border=\"1\" class=\"dataframe\">\n",
       "  <thead>\n",
       "    <tr style=\"text-align: right;\">\n",
       "      <th></th>\n",
       "      <th>DATE</th>\n",
       "      <th>STORE_NBR</th>\n",
       "      <th>LYLTY_CARD_NBR</th>\n",
       "      <th>TXN_ID</th>\n",
       "      <th>PROD_NBR</th>\n",
       "      <th>PROD_NAME</th>\n",
       "      <th>PROD_QTY</th>\n",
       "      <th>TOT_SALES</th>\n",
       "    </tr>\n",
       "  </thead>\n",
       "  <tbody>\n",
       "    <tr>\n",
       "      <th>0</th>\n",
       "      <td>17/10/18</td>\n",
       "      <td>1</td>\n",
       "      <td>1000</td>\n",
       "      <td>1</td>\n",
       "      <td>5</td>\n",
       "      <td>Natural Chip        Compny SeaSalt175g</td>\n",
       "      <td>2</td>\n",
       "      <td>6.0</td>\n",
       "    </tr>\n",
       "    <tr>\n",
       "      <th>1</th>\n",
       "      <td>14/05/19</td>\n",
       "      <td>1</td>\n",
       "      <td>1307</td>\n",
       "      <td>348</td>\n",
       "      <td>66</td>\n",
       "      <td>CCs Nacho Cheese    175g</td>\n",
       "      <td>3</td>\n",
       "      <td>6.3</td>\n",
       "    </tr>\n",
       "    <tr>\n",
       "      <th>2</th>\n",
       "      <td>20/05/19</td>\n",
       "      <td>1</td>\n",
       "      <td>1343</td>\n",
       "      <td>383</td>\n",
       "      <td>61</td>\n",
       "      <td>Smiths Crinkle Cut  Chips Chicken 170g</td>\n",
       "      <td>2</td>\n",
       "      <td>2.9</td>\n",
       "    </tr>\n",
       "    <tr>\n",
       "      <th>3</th>\n",
       "      <td>17/08/18</td>\n",
       "      <td>2</td>\n",
       "      <td>2373</td>\n",
       "      <td>974</td>\n",
       "      <td>69</td>\n",
       "      <td>Smiths Chip Thinly  S/Cream&amp;Onion 175g</td>\n",
       "      <td>5</td>\n",
       "      <td>15.0</td>\n",
       "    </tr>\n",
       "    <tr>\n",
       "      <th>4</th>\n",
       "      <td>18/08/18</td>\n",
       "      <td>2</td>\n",
       "      <td>2426</td>\n",
       "      <td>1038</td>\n",
       "      <td>108</td>\n",
       "      <td>Kettle Tortilla ChpsHny&amp;Jlpno Chili 150g</td>\n",
       "      <td>3</td>\n",
       "      <td>13.8</td>\n",
       "    </tr>\n",
       "  </tbody>\n",
       "</table>\n",
       "</div>"
      ],
      "text/plain": [
       "       DATE  STORE_NBR  LYLTY_CARD_NBR  TXN_ID  PROD_NBR  \\\n",
       "0  17/10/18          1            1000       1         5   \n",
       "1  14/05/19          1            1307     348        66   \n",
       "2  20/05/19          1            1343     383        61   \n",
       "3  17/08/18          2            2373     974        69   \n",
       "4  18/08/18          2            2426    1038       108   \n",
       "\n",
       "                                  PROD_NAME  PROD_QTY  TOT_SALES  \n",
       "0    Natural Chip        Compny SeaSalt175g         2        6.0  \n",
       "1                  CCs Nacho Cheese    175g         3        6.3  \n",
       "2    Smiths Crinkle Cut  Chips Chicken 170g         2        2.9  \n",
       "3    Smiths Chip Thinly  S/Cream&Onion 175g         5       15.0  \n",
       "4  Kettle Tortilla ChpsHny&Jlpno Chili 150g         3       13.8  "
      ]
     },
     "execution_count": 2,
     "metadata": {},
     "output_type": "execute_result"
    }
   ],
   "source": [
    "transaction_df = pd.read_csv(\"transcation_csv.csv\")\n",
    "transaction_df.head()"
   ]
  },
  {
   "cell_type": "code",
   "execution_count": 3,
   "metadata": {},
   "outputs": [
    {
     "name": "stdout",
     "output_type": "stream",
     "text": [
      "<class 'pandas.core.frame.DataFrame'>\n",
      "RangeIndex: 264836 entries, 0 to 264835\n",
      "Data columns (total 8 columns):\n",
      " #   Column          Non-Null Count   Dtype  \n",
      "---  ------          --------------   -----  \n",
      " 0   DATE            264836 non-null  object \n",
      " 1   STORE_NBR       264836 non-null  int64  \n",
      " 2   LYLTY_CARD_NBR  264836 non-null  int64  \n",
      " 3   TXN_ID          264836 non-null  int64  \n",
      " 4   PROD_NBR        264836 non-null  int64  \n",
      " 5   PROD_NAME       264836 non-null  object \n",
      " 6   PROD_QTY        264836 non-null  int64  \n",
      " 7   TOT_SALES       264836 non-null  float64\n",
      "dtypes: float64(1), int64(5), object(2)\n",
      "memory usage: 16.2+ MB\n"
     ]
    }
   ],
   "source": [
    "transaction_df.info()"
   ]
  },
  {
   "cell_type": "code",
   "execution_count": 4,
   "metadata": {},
   "outputs": [],
   "source": [
    "#change DATE and PROD_NAME type\n",
    "transaction_df[\"DATE\"] = pd.to_datetime(transaction_df[\"DATE\"])\n",
    "transaction_df['PROD_NAME'] = transaction_df.PROD_NAME.astype(str)\n",
    "transaction_df[\"PROD_NAME\"] = transaction_df.PROD_NAME.str.lower()"
   ]
  },
  {
   "cell_type": "code",
   "execution_count": null,
   "metadata": {},
   "outputs": [],
   "source": []
  },
  {
   "cell_type": "code",
   "execution_count": 5,
   "metadata": {},
   "outputs": [],
   "source": [
    "potato_df = transaction_df[transaction_df[\"PROD_NAME\"].str.contains(\"potato chips\")]\n"
   ]
  },
  {
   "cell_type": "code",
   "execution_count": 6,
   "metadata": {},
   "outputs": [
    {
     "data": {
      "text/plain": [
       "(4647, 8)"
      ]
     },
     "execution_count": 6,
     "metadata": {},
     "output_type": "execute_result"
    }
   ],
   "source": [
    "potato_df.shape"
   ]
  },
  {
   "cell_type": "code",
   "execution_count": 7,
   "metadata": {},
   "outputs": [
    {
     "data": {
      "text/html": [
       "<div>\n",
       "<style scoped>\n",
       "    .dataframe tbody tr th:only-of-type {\n",
       "        vertical-align: middle;\n",
       "    }\n",
       "\n",
       "    .dataframe tbody tr th {\n",
       "        vertical-align: top;\n",
       "    }\n",
       "\n",
       "    .dataframe thead th {\n",
       "        text-align: right;\n",
       "    }\n",
       "</style>\n",
       "<table border=\"1\" class=\"dataframe\">\n",
       "  <thead>\n",
       "    <tr style=\"text-align: right;\">\n",
       "      <th></th>\n",
       "      <th>DATE</th>\n",
       "      <th>STORE_NBR</th>\n",
       "      <th>LYLTY_CARD_NBR</th>\n",
       "      <th>TXN_ID</th>\n",
       "      <th>PROD_NBR</th>\n",
       "      <th>PROD_NAME</th>\n",
       "      <th>PROD_QTY</th>\n",
       "      <th>TOT_SALES</th>\n",
       "    </tr>\n",
       "  </thead>\n",
       "  <tbody>\n",
       "    <tr>\n",
       "      <th>86</th>\n",
       "      <td>2019-05-19</td>\n",
       "      <td>115</td>\n",
       "      <td>115381</td>\n",
       "      <td>118981</td>\n",
       "      <td>29</td>\n",
       "      <td>french fries potato chips 175g</td>\n",
       "      <td>1</td>\n",
       "      <td>3.0</td>\n",
       "    </tr>\n",
       "    <tr>\n",
       "      <th>97</th>\n",
       "      <td>2018-08-16</td>\n",
       "      <td>128</td>\n",
       "      <td>128231</td>\n",
       "      <td>132121</td>\n",
       "      <td>28</td>\n",
       "      <td>thins potato chips  hot &amp; spicy 175g</td>\n",
       "      <td>1</td>\n",
       "      <td>3.3</td>\n",
       "    </tr>\n",
       "    <tr>\n",
       "      <th>211</th>\n",
       "      <td>2018-01-11</td>\n",
       "      <td>1</td>\n",
       "      <td>1348</td>\n",
       "      <td>390</td>\n",
       "      <td>28</td>\n",
       "      <td>thins potato chips  hot &amp; spicy 175g</td>\n",
       "      <td>1</td>\n",
       "      <td>3.3</td>\n",
       "    </tr>\n",
       "    <tr>\n",
       "      <th>221</th>\n",
       "      <td>2018-09-23</td>\n",
       "      <td>2</td>\n",
       "      <td>2203</td>\n",
       "      <td>805</td>\n",
       "      <td>28</td>\n",
       "      <td>thins potato chips  hot &amp; spicy 175g</td>\n",
       "      <td>1</td>\n",
       "      <td>3.3</td>\n",
       "    </tr>\n",
       "    <tr>\n",
       "      <th>254</th>\n",
       "      <td>2018-06-08</td>\n",
       "      <td>4</td>\n",
       "      <td>4016</td>\n",
       "      <td>2713</td>\n",
       "      <td>28</td>\n",
       "      <td>thins potato chips  hot &amp; spicy 175g</td>\n",
       "      <td>2</td>\n",
       "      <td>6.6</td>\n",
       "    </tr>\n",
       "  </tbody>\n",
       "</table>\n",
       "</div>"
      ],
      "text/plain": [
       "          DATE  STORE_NBR  LYLTY_CARD_NBR  TXN_ID  PROD_NBR  \\\n",
       "86  2019-05-19        115          115381  118981        29   \n",
       "97  2018-08-16        128          128231  132121        28   \n",
       "211 2018-01-11          1            1348     390        28   \n",
       "221 2018-09-23          2            2203     805        28   \n",
       "254 2018-06-08          4            4016    2713        28   \n",
       "\n",
       "                                PROD_NAME  PROD_QTY  TOT_SALES  \n",
       "86         french fries potato chips 175g         1        3.0  \n",
       "97   thins potato chips  hot & spicy 175g         1        3.3  \n",
       "211  thins potato chips  hot & spicy 175g         1        3.3  \n",
       "221  thins potato chips  hot & spicy 175g         1        3.3  \n",
       "254  thins potato chips  hot & spicy 175g         2        6.6  "
      ]
     },
     "execution_count": 7,
     "metadata": {},
     "output_type": "execute_result"
    }
   ],
   "source": [
    "potato_df.head()"
   ]
  },
  {
   "cell_type": "code",
   "execution_count": 8,
   "metadata": {},
   "outputs": [
    {
     "name": "stderr",
     "output_type": "stream",
     "text": [
      "/home/sdbhagat1323/anaconda3/lib/python3.7/site-packages/ipykernel_launcher.py:1: SettingWithCopyWarning: \n",
      "A value is trying to be set on a copy of a slice from a DataFrame.\n",
      "Try using .loc[row_indexer,col_indexer] = value instead\n",
      "\n",
      "See the caveats in the documentation: https://pandas.pydata.org/pandas-docs/stable/user_guide/indexing.html#returning-a-view-versus-a-copy\n",
      "  \"\"\"Entry point for launching an IPython kernel.\n"
     ]
    }
   ],
   "source": [
    "potato_df[\"PROD_NAME\"] = potato_df[\"PROD_NAME\"].str.replace('(\\d+.)',\"\")"
   ]
  },
  {
   "cell_type": "code",
   "execution_count": 9,
   "metadata": {},
   "outputs": [
    {
     "name": "stderr",
     "output_type": "stream",
     "text": [
      "/home/sdbhagat1323/anaconda3/lib/python3.7/site-packages/ipykernel_launcher.py:5: SettingWithCopyWarning: \n",
      "A value is trying to be set on a copy of a slice from a DataFrame.\n",
      "Try using .loc[row_indexer,col_indexer] = value instead\n",
      "\n",
      "See the caveats in the documentation: https://pandas.pydata.org/pandas-docs/stable/user_guide/indexing.html#returning-a-view-versus-a-copy\n",
      "  \"\"\"\n"
     ]
    }
   ],
   "source": [
    "#replace all bad charecter form prod_name\n",
    "bad_char =  [\"%\", \"/\", \"&\", \",\", \"(\",\")\"]\n",
    "\n",
    "for i in bad_char:\n",
    "    potato_df[\"PROD_NAME\"] = potato_df.PROD_NAME.str.replace(i, \"\").astype(str)"
   ]
  },
  {
   "cell_type": "code",
   "execution_count": 10,
   "metadata": {},
   "outputs": [
    {
     "data": {
      "text/html": [
       "<div>\n",
       "<style scoped>\n",
       "    .dataframe tbody tr th:only-of-type {\n",
       "        vertical-align: middle;\n",
       "    }\n",
       "\n",
       "    .dataframe tbody tr th {\n",
       "        vertical-align: top;\n",
       "    }\n",
       "\n",
       "    .dataframe thead th {\n",
       "        text-align: right;\n",
       "    }\n",
       "</style>\n",
       "<table border=\"1\" class=\"dataframe\">\n",
       "  <thead>\n",
       "    <tr style=\"text-align: right;\">\n",
       "      <th></th>\n",
       "      <th>DATE</th>\n",
       "      <th>STORE_NBR</th>\n",
       "      <th>LYLTY_CARD_NBR</th>\n",
       "      <th>TXN_ID</th>\n",
       "      <th>PROD_NBR</th>\n",
       "      <th>PROD_NAME</th>\n",
       "      <th>PROD_QTY</th>\n",
       "      <th>TOT_SALES</th>\n",
       "    </tr>\n",
       "  </thead>\n",
       "  <tbody>\n",
       "    <tr>\n",
       "      <th>86</th>\n",
       "      <td>2019-05-19</td>\n",
       "      <td>115</td>\n",
       "      <td>115381</td>\n",
       "      <td>118981</td>\n",
       "      <td>29</td>\n",
       "      <td>french fries potato chips</td>\n",
       "      <td>1</td>\n",
       "      <td>3.0</td>\n",
       "    </tr>\n",
       "    <tr>\n",
       "      <th>97</th>\n",
       "      <td>2018-08-16</td>\n",
       "      <td>128</td>\n",
       "      <td>128231</td>\n",
       "      <td>132121</td>\n",
       "      <td>28</td>\n",
       "      <td>thins potato chips  hot  spicy</td>\n",
       "      <td>1</td>\n",
       "      <td>3.3</td>\n",
       "    </tr>\n",
       "    <tr>\n",
       "      <th>211</th>\n",
       "      <td>2018-01-11</td>\n",
       "      <td>1</td>\n",
       "      <td>1348</td>\n",
       "      <td>390</td>\n",
       "      <td>28</td>\n",
       "      <td>thins potato chips  hot  spicy</td>\n",
       "      <td>1</td>\n",
       "      <td>3.3</td>\n",
       "    </tr>\n",
       "    <tr>\n",
       "      <th>221</th>\n",
       "      <td>2018-09-23</td>\n",
       "      <td>2</td>\n",
       "      <td>2203</td>\n",
       "      <td>805</td>\n",
       "      <td>28</td>\n",
       "      <td>thins potato chips  hot  spicy</td>\n",
       "      <td>1</td>\n",
       "      <td>3.3</td>\n",
       "    </tr>\n",
       "    <tr>\n",
       "      <th>254</th>\n",
       "      <td>2018-06-08</td>\n",
       "      <td>4</td>\n",
       "      <td>4016</td>\n",
       "      <td>2713</td>\n",
       "      <td>28</td>\n",
       "      <td>thins potato chips  hot  spicy</td>\n",
       "      <td>2</td>\n",
       "      <td>6.6</td>\n",
       "    </tr>\n",
       "  </tbody>\n",
       "</table>\n",
       "</div>"
      ],
      "text/plain": [
       "          DATE  STORE_NBR  LYLTY_CARD_NBR  TXN_ID  PROD_NBR  \\\n",
       "86  2019-05-19        115          115381  118981        29   \n",
       "97  2018-08-16        128          128231  132121        28   \n",
       "211 2018-01-11          1            1348     390        28   \n",
       "221 2018-09-23          2            2203     805        28   \n",
       "254 2018-06-08          4            4016    2713        28   \n",
       "\n",
       "                           PROD_NAME  PROD_QTY  TOT_SALES  \n",
       "86        french fries potato chips          1        3.0  \n",
       "97   thins potato chips  hot  spicy          1        3.3  \n",
       "211  thins potato chips  hot  spicy          1        3.3  \n",
       "221  thins potato chips  hot  spicy          1        3.3  \n",
       "254  thins potato chips  hot  spicy          2        6.6  "
      ]
     },
     "execution_count": 10,
     "metadata": {},
     "output_type": "execute_result"
    }
   ],
   "source": [
    "potato_df.head()"
   ]
  },
  {
   "cell_type": "raw",
   "metadata": {},
   "source": [
    "potato_df[\"PROD_NAME\"] = potato_df[\"PROD_NAME\"].apply(lambda x : x.split())"
   ]
  },
  {
   "cell_type": "code",
   "execution_count": 11,
   "metadata": {},
   "outputs": [
    {
     "name": "stdout",
     "output_type": "stream",
     "text": [
      "(4647, 8)\n"
     ]
    }
   ],
   "source": [
    "potato_df.head()\n",
    "print(potato_df.shape)"
   ]
  },
  {
   "cell_type": "code",
   "execution_count": 12,
   "metadata": {},
   "outputs": [
    {
     "data": {
      "text/plain": [
       "thins potato chips  hot  spicy     3229\n",
       "french fries potato chips          1418\n",
       "Name: PROD_NAME, dtype: int64"
      ]
     },
     "execution_count": 12,
     "metadata": {},
     "output_type": "execute_result"
    }
   ],
   "source": [
    "potato_df[\"PROD_NAME\"].value_counts()"
   ]
  },
  {
   "cell_type": "code",
   "execution_count": 24,
   "metadata": {},
   "outputs": [
    {
     "name": "stdout",
     "output_type": "stream",
     "text": [
      "kettle mozzarella   basil & pesto 175g      3304\n",
      "kettle tortilla chpshny&jlpno chili 150g    3296\n",
      "cobs popd swt/chlli &sr/cream chips 110g    3269\n",
      "tyrrells crisps     ched & chives 165g      3268\n",
      "cobs popd sea salt  chips 110g              3265\n",
      "kettle 135g swt pot sea salt                3257\n",
      "tostitos splash of  lime 175g               3252\n",
      "infuzions thai sweetchili potatomix 110g    3242\n",
      "smiths crnkle chip  orgnl big bag 380g      3233\n",
      "thins potato chips  hot & spicy 175g        3229\n",
      "kettle sensations   camembert & fig 150g    3219\n",
      "doritos corn chips  cheese supreme 170g     3217\n",
      "pringles barbeque   134g                    3210\n",
      "doritos corn chip mexican jalapeno 150g     3204\n",
      "kettle sweet chilli and sour cream 175g     3200\n",
      "smiths crinkle chips salt & vinegar 330g    3197\n",
      "thins chips light&  tangy 175g              3188\n",
      "dorito corn chp     supreme 380g            3185\n",
      "pringles sweet&spcy bbq 134g                3177\n",
      "tyrrells crisps     lightly salted 165g     3174\n",
      "infuzions bbq rib   prawn crackers 110g     3174\n",
      "kettle sea salt     and vinegar 175g        3173\n",
      "doritos corn chip southern chicken 150g     3172\n",
      "twisties chicken270g                        3170\n",
      "twisties cheese     burger 250g             3169\n",
      "grain waves         sweet chilli 210g       3167\n",
      "pringles sourcream  onion 134g              3162\n",
      "doritos corn chips  nacho cheese 170g       3160\n",
      "cobs popd sour crm  &chives chips 110g      3159\n",
      "kettle original 175g                        3159\n",
      "pringles original   crisps 134g             3157\n",
      "cheezels cheese 330g                        3149\n",
      "kettle honey soy    chicken 175g            3148\n",
      "kettle tortilla chpsbtroot&ricotta 150g     3146\n",
      "tostitos smoked     chipotle 175g           3145\n",
      "infzns crn crnchers tangy gcamole 110g      3144\n",
      "smiths crinkle      original 330g           3142\n",
      "kettle tortilla chpsfeta&garlic 150g        3138\n",
      "infuzions sourcream&herbs veg strws 110g    3134\n",
      "kettle sensations   siracha lime 150g       3127\n",
      "old el paso salsa   dip chnky tom ht300g    3125\n",
      "doritos corn chips  original 170g           3121\n",
      "twisties cheese     270g                    3115\n",
      "doritos mexicana    170g                    3115\n",
      "old el paso salsa   dip tomato med 300g     3114\n",
      "pringles mystery    flavour 134g            3114\n",
      "thins chips seasonedchicken 175g            3114\n",
      "grain waves sour    cream&chives 210g       3105\n",
      "pringles chicken    salt crips 134g         3104\n",
      "thins chips salt &  vinegar 175g            3103\n",
      "pringles slt vingar 134g                    3095\n",
      "old el paso salsa   dip tomato mild 300g    3085\n",
      "kettle sensations   bbq&maple 150g          3083\n",
      "pringles sthrn friedchicken 134g            3083\n",
      "tostitos lightly    salted 175g             3074\n",
      "doritos cheese      supreme 330g            3052\n",
      "kettle chilli 175g                          3038\n",
      "smiths chip thinly  cut original 175g       1614\n",
      "snbts whlgrn crisps cheddr&mstrd 90g        1576\n",
      "natural chip co     tmato hrb&spce 175g     1572\n",
      "burger rings 220g                           1564\n",
      "natural chipco sea  salt & vinegr 175g      1550\n",
      "ccs tasty cheese    175g                    1539\n",
      "rrd sr slow rst     pork belly 150g         1526\n",
      "smiths thinly cut   roast chicken 175g      1519\n",
      "rrd sweet chilli &  sour cream 165g         1516\n",
      "woolworths cheese   rings 190g              1516\n",
      "ccs original 175g                           1514\n",
      "rrd honey soy       chicken 165g            1513\n",
      "smith crinkle cut   mac n cheese 150g       1512\n",
      "ww supreme cheese   corn chips 200g         1509\n",
      "infuzions mango     chutny papadums 70g     1507\n",
      "rrd chilli&         coconut 150g            1506\n",
      "smiths crinkle cut  snag&sauce 150g         1503\n",
      "red rock deli sp    salt & truffle 150g     1498\n",
      "ccs nacho cheese    175g                    1498\n",
      "red rock deli thai  chilli&lime 150g        1495\n",
      "ww original corn    chips 200g              1495\n",
      "woolworths mild     salsa 300g              1491\n",
      "smiths crinkle cut  chips barbecue 170g     1489\n",
      "ww original stacked chips 160g              1487\n",
      "smiths crinkle cut  chips chicken 170g      1484\n",
      "ww sour cream &onionstacked chips 160g      1483\n",
      "smiths crinkle cut  chips chs&onion170g     1481\n",
      "cheetos chs & bacon balls 190g              1479\n",
      "rrd salt & vinegar  165g                    1474\n",
      "rrd lime & pepper   165g                    1473\n",
      "smiths chip thinly  s/cream&onion 175g      1473\n",
      "doritos salsa mild  300g                    1472\n",
      "smiths crinkle cut  tomato salsa 150g       1470\n",
      "ww d/style chip     sea salt 200g           1469\n",
      "natural chip        compny seasalt175g      1468\n",
      "grnwves plus btroot & chilli jam 180g       1468\n",
      "ww crinkle cut      chicken 175g            1467\n",
      "smiths thinly       swt chli&s/cream175g    1461\n",
      "smiths crinkle cut  chips original 170g     1461\n",
      "natural chipco      hony soy chckn175g      1460\n",
      "red rock deli sr    salsa & mzzrlla 150g    1458\n",
      "rrd steak &         chimuchurri 150g        1455\n",
      "smiths crinkle cut  salt & vinegar 170g     1455\n",
      "cheezels cheese box 125g                    1454\n",
      "smith crinkle cut   bolognese 150g          1451\n",
      "doritos salsa       medium 300g             1449\n",
      "cheetos puffs 165g                          1448\n",
      "thins chips         originl saltd 175g      1441\n",
      "smiths chip thinly  cutsalt/vinegr175g      1440\n",
      "smiths crinkle cut  french oniondip 150g    1438\n",
      "red rock deli chikn&garlic aioli 150g       1434\n",
      "sunbites whlegrn    crisps frch/onin 90g    1432\n",
      "rrd pc sea salt     165g                    1431\n",
      "woolworths medium   salsa 300g              1430\n",
      "ncc sour cream &    garden chives 175g      1419\n",
      "french fries potato chips 175g              1418\n",
      "ww crinkle cut      original 175g           1410\n",
      "Name: PROD_NAME, dtype: int64\n"
     ]
    }
   ],
   "source": [
    "for i in PROD_LIST:\n",
    "    print(i)\n",
    "pd.set_option('display.max_rows', None)"
   ]
  },
  {
   "cell_type": "code",
   "execution_count": 22,
   "metadata": {},
   "outputs": [],
   "source": [
    "pd.set_option('display.max_rows', None)"
   ]
  },
  {
   "cell_type": "code",
   "execution_count": null,
   "metadata": {},
   "outputs": [],
   "source": []
  },
  {
   "cell_type": "code",
   "execution_count": null,
   "metadata": {},
   "outputs": [],
   "source": []
  },
  {
   "cell_type": "code",
   "execution_count": null,
   "metadata": {},
   "outputs": [],
   "source": []
  },
  {
   "cell_type": "code",
   "execution_count": null,
   "metadata": {},
   "outputs": [],
   "source": []
  },
  {
   "cell_type": "code",
   "execution_count": null,
   "metadata": {},
   "outputs": [],
   "source": []
  },
  {
   "cell_type": "code",
   "execution_count": null,
   "metadata": {},
   "outputs": [],
   "source": []
  }
 ],
 "metadata": {
  "kernelspec": {
   "display_name": "Python 3",
   "language": "python",
   "name": "python3"
  },
  "language_info": {
   "codemirror_mode": {
    "name": "ipython",
    "version": 3
   },
   "file_extension": ".py",
   "mimetype": "text/x-python",
   "name": "python",
   "nbconvert_exporter": "python",
   "pygments_lexer": "ipython3",
   "version": "3.7.6"
  }
 },
 "nbformat": 4,
 "nbformat_minor": 4
}
